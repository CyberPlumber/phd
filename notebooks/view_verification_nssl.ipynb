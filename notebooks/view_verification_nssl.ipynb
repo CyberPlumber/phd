{
 "metadata": {
  "name": "view_verification_nssl"
 },
 "nbformat": 3,
 "nbformat_minor": 0,
 "worksheets": [
  {
   "cells": [
    {
     "cell_type": "code",
     "collapsed": false,
     "input": [
      "import os, sys\n",
      "import datetime\n",
      "import numpy as np\n",
      "import scipy as sp\n",
      "import matplotlib.pyplot as plt\n",
      "from mpl_toolkits.axes_grid1 import ImageGrid\n",
      "from matplotlib.ticker import MultipleLocator\n",
      "from matplotlib.lines import Line2D\n",
      "import disser\n",
      "import veripy as vp"
     ],
     "language": "python",
     "metadata": {},
     "outputs": []
    },
    {
     "cell_type": "code",
     "collapsed": false,
     "input": [
      "print('Platform: {0.platform}\\nPython Version: {0.version}'.format(sys))\n",
      "print('Numpy Version: {0}'.format(np.__version__))\n",
      "print('Veripy Version: {0}'.format(vp.__version__))\n",
      "print('Disser Version: {0}'.format(disser.__version__))"
     ],
     "language": "python",
     "metadata": {},
     "outputs": []
    },
    {
     "cell_type": "markdown",
     "metadata": {},
     "source": [
      "-----\n",
      "# View NSSL-WRF Verification\n"
     ]
    },
    {
     "cell_type": "code",
     "collapsed": false,
     "input": [
      "def read_vfile(vfile):\n",
      "    data = np.recfromcsv(vfile, unpack=True, dtype=None, skip_header=3, names=True)\n",
      "    lines = open(vfile, 'r').readlines()[:2]\n",
      "    lines = [line.strip().strip('###').strip() for line in lines]\n",
      "    nssl = int(lines[0].split(':')[-1])\n",
      "    stg4 = int(lines[1].split(':')[-1])\n",
      "    return data.fcount, data.ocount, nssl, stg4\n"
     ],
     "language": "python",
     "metadata": {},
     "outputs": []
    },
    {
     "cell_type": "code",
     "collapsed": false,
     "input": [
      "bdt = datetime.datetime(2010, 4, 1, 0)\n",
      "edt = datetime.datetime(2011, 3, 31, 18)\n",
      "dts = [bdt + datetime.timedelta(hours=i*6) for i in range(4+(edt-bdt).days*4)]\n"
     ],
     "language": "python",
     "metadata": {},
     "outputs": []
    },
    {
     "cell_type": "markdown",
     "metadata": {},
     "source": [
      "-----\n",
      "### Read In Single Data"
     ]
    },
    {
     "cell_type": "code",
     "collapsed": false,
     "input": [
      "precision = 0\n",
      "radius = 300\n",
      "thresh = 25.4 * 1\n",
      "verif_root = r'/raid/efp/se2012/pmarsh/phd/deterministic/%03ikm/verification/%05.2f/06h' % (radius, thresh)\n",
      "\n",
      "verif_totals_path = os.path.join(verif_root, 'totals')\n",
      "master = os.path.join(verif_totals_path, '%s-%s.csv' % (dts[0].strftime('%Y%m%d%H'), dts[-1].strftime('%Y%m%d%H')))\n",
      "\n",
      "try:\n",
      "    fcount, ocount, nssl_total, stg4_total = read_vfile(master)\n",
      "except:\n",
      "    print('Could not find master file. Opening files individually...')\n",
      "    vfiles = []\n",
      "    for dt in dts:\n",
      "        yrmo = dt.strftime('%Y/%m')\n",
      "        date4 = dt.strftime('%Y%m%d%H')\n",
      "        verif_path = os.path.join(verif_root, yrmo)\n",
      "        vfile = os.path.join(verif_path, '%s.csv' % (date4))\n",
      "        if os.path.isfile(vfile):\n",
      "            vfiles.append(vfile)\n",
      "    init = True\n",
      "    for vfile in vfiles:\n",
      "        afcount, aocount, nssl_tmp, stg4_tmp = read_vfile(vfile)\n",
      "        if init:\n",
      "            fcount = afcount.copy()\n",
      "            ocount = aocount.copy()\n",
      "            nssl_total = nssl_tmp\n",
      "            stg4_total = stg4_tmp\n",
      "            init = False\n",
      "        else:\n",
      "            fcount += afcount.copy()\n",
      "            ocount += aocount.copy()\n",
      "            nssl_total += nssl_tmp\n",
      "            stg4_total += stg4_tmp\n",
      "    if not os.path.isdir(verif_totals_path):\n",
      "        os.makedirs(verif_totals_path)\n",
      "    disser.calibration.forecast.write_file(master, nssl_total, stg4_total, bias, fcount, ocount, precision)\n",
      "bias = nssl_total / stg4_total\n",
      "print('Threshold:', thresh)\n",
      "print('Total Number of Forecast Grid Points:', nssl_total)\n",
      "print('Total Number of Observed Grid Points:', stg4_total)\n",
      "print('Bias (FCST / OBS):', bias)\n",
      "print('')\n",
      "\n",
      "fcounts = [fcount]\n",
      "ocounts = [ocount]\n",
      "colors = ['#000000']"
     ],
     "language": "python",
     "metadata": {},
     "outputs": []
    },
    {
     "cell_type": "markdown",
     "metadata": {},
     "source": [
      "-----\n",
      "### Read in Multi Data"
     ]
    },
    {
     "cell_type": "code",
     "collapsed": false,
     "input": [
      "radius = 400\n",
      "thresh = 25.4 * 0.5\n",
      "verif_root = r'/raid/efp/se2012/pmarsh/phd/deterministic/%03ikm/verification/%05.2f/06h' % (radius, thresh)\n",
      "verif_totals_path = os.path.join(verif_root, 'totals')\n",
      "master = os.path.join(verif_totals_path, '%s-%s.csv' % (dts[0].strftime('%Y%m%d%H'), dts[-1].strftime('%Y%m%d%H')))\n",
      "afcount, aocount, anssl_total, astg4_total = read_vfile(master)\n",
      "\n",
      "\n",
      "radius = 400\n",
      "thresh = 25.4 * 1\n",
      "verif_root = r'/raid/efp/se2012/pmarsh/phd/deterministic/%03ikm/verification/%05.2f/06h' % (radius, thresh)\n",
      "verif_totals_path = os.path.join(verif_root, 'totals')\n",
      "master = os.path.join(verif_totals_path, '%s-%s.csv' % (dts[0].strftime('%Y%m%d%H'), dts[-1].strftime('%Y%m%d%H')))\n",
      "bfcount, bocount, bnssl_total, bstg4_total = read_vfile(master)\n",
      "\n",
      "\n",
      "fcounts = [afcount, bfcount]\n",
      "ocounts = [aocount, bocount]\n",
      "colors = ['r', 'b']"
     ],
     "language": "python",
     "metadata": {},
     "outputs": []
    },
    {
     "cell_type": "markdown",
     "metadata": {},
     "source": [
      "-----\n",
      "### Plotting"
     ]
    },
    {
     "cell_type": "code",
     "collapsed": false,
     "input": [
      "fig = plt.figure(figsize=(20,10))\n",
      "grid = ImageGrid(fig, 111, nrows_ncols=(1,2), direction=\"column\",\n",
      "                 axes_pad=1.5, add_all=True, label_mode=\"each\",\n",
      "                 share_all=False, cbar_location=\"bottom\", cbar_mode=\"none\",\n",
      "                 cbar_size=\"5%\", cbar_pad=\"5%\")\n",
      "ax0 = grid[0]; cax0 = grid.cbar_axes[0]\n",
      "ax0 = disser.viz.performance_diagram(ax=ax0)\n",
      "ax1 = grid[1]; cax1 = grid.cbar_axes[1]\n",
      "ax1 = disser.viz.reliability(ax=ax1)\n",
      "\n",
      "llines = []\n",
      "llabels = []\n",
      "bin_every = 5\n",
      "h_bin_every = bin_every / 2\n",
      "\n",
      "for fcount, ocount, color in zip(fcounts, ocounts, colors):\n",
      "    filtered_fcst, filtered_obs, fpercent, opercent = disser.viz.prepare_reliability(fcount, ocount, precision)\n",
      "    \n",
      "    # Create Data for Reliability Diagram\n",
      "    fcst, obs = disser.viz.combine_bins(filtered_fcst, filtered_obs, bin_every*10**precision)\n",
      "    oper = obs / fcst * 100.\n",
      "    fper = np.arange(h_bin_every, 100+1e-6, bin_every)\n",
      "    fper = np.insert(fper, 0, 0)\n",
      "    fper = np.append(fper, 1)\n",
      "    \n",
      "    # Create Data for Performance Diagram\n",
      "    a, b, c, d = vp.convert.reliability2contingency(fcst, obs)\n",
      "    pod = vp.contingency.pod(a, b, c, d)\n",
      "    far = vp.contingency.far(a, b, c, d)\n",
      "    \n",
      "    ax0.plot(1-far, pod, marker='o', linestyle='-', linewidth=1.5, markersize=10, color=color)\n",
      "    ax1.plot(fper/100, oper/100, marker='o', lw=1.5, ms=10, linestyle='-', color=color)\n",
      "ax1.grid(True)\n",
      "fig.suptitle('Verification of POE Given Threshold', size=24, verticalalignment='bottom');\n"
     ],
     "language": "python",
     "metadata": {},
     "outputs": []
    }
   ],
   "metadata": {}
  }
 ]
}