{
 "metadata": {
  "name": "view_ecdf_ssef"
 },
 "nbformat": 3,
 "nbformat_minor": 0,
 "worksheets": [
  {
   "cells": [
    {
     "cell_type": "code",
     "collapsed": false,
     "input": [
      "import os\n",
      "import sys\n",
      "import datetime\n",
      "import cPickle as pickle\n",
      "\n",
      "import numpy as np\n",
      "import matplotlib.pyplot as plt\n",
      "from mpl_toolkits.axes_grid1 import ImageGrid\n",
      "from matplotlib.ticker import MultipleLocator\n",
      "from matplotlib.lines import Line2D\n",
      "\n",
      "import disser; reload(disser)"
     ],
     "language": "python",
     "metadata": {},
     "outputs": []
    },
    {
     "cell_type": "code",
     "collapsed": false,
     "input": [
      "print('Platform: {0.platform}\\nPython Version: {0.version}'.format(sys))\n",
      "print('Numpy Version: {0}'.format(np.__version__))\n",
      "print('Disser Version: {0}'.format(disser.__version__))"
     ],
     "language": "python",
     "metadata": {},
     "outputs": []
    },
    {
     "cell_type": "markdown",
     "metadata": {},
     "source": [
      "-----\n",
      "# View Emperical CDF from the SSEF"
     ]
    },
    {
     "cell_type": "code",
     "collapsed": false,
     "input": [
      "radius = 400\n",
      "thresh = 25.4 * 0.5\n",
      "\n",
      "dist_root = r'/raid/efp/se2012/pmarsh/phd/ssef/distributions/06h'\n",
      "npbin_fcst_root = r'/raid/efp/se2012/pmarsh/phd/ssef_bc/%03ikm/forecasts/%05.2f/06h/simulations' % (radius, thresh)\n",
      "pickle_file = os.path.join(npbin_fcst_root, r'simulation_config_%03ikm_%05.2f.pkl' % (radius, thresh))\n",
      "simulation_config = pickle.load(open(pickle_file, 'rb'))\n"
     ],
     "language": "python",
     "metadata": {},
     "outputs": []
    },
    {
     "cell_type": "code",
     "collapsed": false,
     "input": [
      "stg4_thresh = 25.4 * 0.5 # thresh\n",
      "simulation_number = 1\n",
      "member = 's4cn_arw'\n",
      "\n",
      "stg4_ecdfs = []\n",
      "stg4_threshes = []\n",
      "stg4_quants = []\n",
      "\n",
      "fcst_ecdfs = []\n",
      "fcst_threshes = []\n",
      "fcst_quants = []\n",
      "dtss = []\n",
      "for simulation_number in range(1, 21):\n",
      "    dts = simulation_config['simulations'][simulation_number]['training_dates']\n",
      "    dtss.append(dts)\n",
      "    init = True\n",
      "    for dt in dts:\n",
      "        dist_path = os.path.join(dist_root, member)\n",
      "        dist_file = os.path.join(dist_path, '%s_dists_%s.npz' % (member, dt.strftime('%Y%m%d%H')))\n",
      "        f = np.load(dist_file)\n",
      "        if init:\n",
      "            fcst_dist = f['fcst_dist']\n",
      "            stg4_dist = f['stg4_dist']\n",
      "            amts = f['amts']\n",
      "        else:\n",
      "            fcst_dist += f['fcst_dist']\n",
      "            stg4_dist += f['stg4_dist']\n",
      "    stg4_ecdf = disser.stat_tools.make_ecdf(stg4_dist)\n",
      "    fcst_ecdf = disser.stat_tools.make_ecdf(fcst_dist)\n",
      "    stg4_quant = disser.stat_tools.value_to_quantile(amts, stg4_ecdf, stg4_thresh)\n",
      "    fcst_thresh = disser.stat_tools.quantile_to_value(amts, fcst_ecdf, stg4_quant)\n",
      "    fcst_quant = disser.stat_tools.value_to_quantile(amts, fcst_ecdf, fcst_thresh)\n",
      "\n",
      "    stg4_ecdfs.append(stg4_ecdf)\n",
      "    stg4_threshes.append(stg4_thresh)\n",
      "    stg4_quants.append(stg4_quant)\n",
      "    fcst_ecdfs.append(fcst_ecdf)\n",
      "    fcst_threshes.append(fcst_thresh)\n",
      "    fcst_quants.append(fcst_quant)\n"
     ],
     "language": "python",
     "metadata": {},
     "outputs": []
    },
    {
     "cell_type": "code",
     "collapsed": false,
     "input": [
      "fig = plt.figure(figsize=(15,5))\n",
      "grid = ImageGrid(fig, 111, nrows_ncols=(1,1), direction=\"column\",\n",
      "                 axes_pad=1.5, add_all=True, label_mode=\"each\",\n",
      "                 share_all=True, aspect=False)\n",
      "ax0 = grid[0]\n",
      "\n",
      "for i in range(len(fcst_quants)):\n",
      "    ax0.step(amts, stg4_ecdfs[i], 'k', lw=1)\n",
      "    ax0.step(amts, fcst_ecdfs[i], 'r', lw=1)\n",
      "    ax0.plot([stg4_threshes[i], fcst_threshes[i]], [stg4_quants[i], stg4_quants[i]], 'b', lw=3, zorder=10)\n",
      "    # ax0.axhline(stg4_quants[i], color='k')\n",
      "    # ax0.axvline(fcst_threshes[i], color='r')\n",
      "ax0.axvline(stg4_thresh, color='k', ls='--')\n",
      "ax0.set_ylim(0.975, 1)\n",
      "ax0.set_xlim(0, 70)\n",
      "ax0.set_xticks(np.arange(0, ax0.get_xlim()[1]+1e-10, 2))\n",
      "ax0.xaxis.set_minor_locator(MultipleLocator(0.5))\n",
      "ax0.xaxis.set_tick_params(which='major', direction='inout', length=10)\n",
      "\n",
      "ax0.yaxis.set_minor_locator(MultipleLocator(0.0005))\n",
      "ax0.yaxis.set_tick_params(which='major', direction='inout', length=10)\n",
      "ax0.grid()\n",
      "ax0.set_title('Emperical CDFs for %s\\n' % (member.upper()), size=18)\n",
      "plt.savefig('%s.pdf' % member, bbox_inches='tight')"
     ],
     "language": "python",
     "metadata": {},
     "outputs": []
    },
    {
     "cell_type": "code",
     "collapsed": false,
     "input": [
      "fields = zip(stg4_threshes, stg4_quants, fcst_threshes, fcst_quants)\n",
      "for stg4, squant, fcst, fquant in fields:\n",
      "    print(stg4, squant, fcst, fquant)"
     ],
     "language": "python",
     "metadata": {},
     "outputs": []
    }
   ],
   "metadata": {}
  }
 ]
}