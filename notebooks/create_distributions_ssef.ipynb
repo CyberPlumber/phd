{
 "metadata": {
  "name": "create_distributions_ssef"
 },
 "nbformat": 3,
 "nbformat_minor": 0,
 "worksheets": [
  {
   "cells": [
    {
     "cell_type": "code",
     "collapsed": false,
     "input": [
      "from IPython.parallel import Client\n",
      "import os\n",
      "import sys\n",
      "import time\n",
      "import shutil\n",
      "import datetime\n",
      "from glob import glob\n",
      "import cPickle as pickle\n",
      "from random import choice\n",
      "\n",
      "import numpy as np\n",
      "from scipy import ndimage\n",
      "\n",
      "import hwt\n",
      "import metpy as mp\n",
      "import disser; reload(disser)"
     ],
     "language": "python",
     "metadata": {},
     "outputs": []
    },
    {
     "cell_type": "code",
     "collapsed": false,
     "input": [
      "print('Platform: {0.platform}\\nPython Version: {0.version}'.format(sys))\n",
      "print('Numpy Version: {0}'.format(np.__version__))\n",
      "print('HWT Version: {0}'.format(hwt.__version__))\n",
      "print('Disser Version: {0}'.format(disser.__version__))"
     ],
     "language": "python",
     "metadata": {},
     "outputs": []
    },
    {
     "cell_type": "markdown",
     "metadata": {},
     "source": [
      "-----\n",
      "# Precipitation Distributions\n",
      "\n",
      "First, create a load-balanced \"view\" of our available nodes."
     ]
    },
    {
     "cell_type": "code",
     "collapsed": false,
     "input": [
      "rc = Client()\n",
      "%px import disser\n",
      "view = rc.load_balanced_view()    # Load-Balanced View"
     ],
     "language": "python",
     "metadata": {},
     "outputs": []
    },
    {
     "cell_type": "markdown",
     "metadata": {},
     "source": [
      "Set the variables that are needed for this notebook"
     ]
    },
    {
     "cell_type": "code",
     "collapsed": false,
     "input": [
      "stg4_root = r'/raid/efp/se2011/pmarsh/stg4/06h'\n",
      "ssef_root = r'/raid/efp/se2011/pmarsh/ssef_precip'\n",
      "npbin_root = r'/raid/efp/se2012/pmarsh/phd/ssef/distributions/06h'\n"
     ],
     "language": "python",
     "metadata": {},
     "outputs": []
    },
    {
     "cell_type": "markdown",
     "metadata": {},
     "source": [
      "Get a list of all stg4 files and nssl files for times when both stg4 and nssl data are available"
     ]
    },
    {
     "cell_type": "code",
     "collapsed": false,
     "input": [
      "stg4_files = []\n",
      "ssef_files = []\n",
      "for member in disser.misc.se2010_members:\n",
      "    for date2 in disser.misc.sedates:\n",
      "        dt = datetime.datetime.strptime(date2, '%y%m%d')\n",
      "        date4 = dt.strftime('%Y%m%d')\n",
      "        ndate4 = (dt + datetime.timedelta(days=1)).strftime('%Y%m%d')\n",
      "        yrmo = dt.strftime('%Y/%m')\n",
      "        ssef_path = os.path.join(ssef_root, os.path.join(date2, member))\n",
      "        ssef_file18 = os.path.join(ssef_path, '%s.%sf18.06h' % (member, date4))\n",
      "        ssef_file24 = os.path.join(ssef_path, '%s.%sf24.06h' % (member, date4))\n",
      "        ssef_file30 = os.path.join(ssef_path, '%s.%sf30.06h' % (member, date4))\n",
      "\n",
      "        stg4_path = os.path.join(stg4_root, yrmo)\n",
      "        stg4_file18 = os.path.join(stg4_path, 'ST4.%s18.06h' % (date4))\n",
      "        stg4_file24 = os.path.join(stg4_path, 'ST4.%s00.06h' % (ndate4))\n",
      "        stg4_file30 = os.path.join(stg4_path, 'ST4.%s06.06h' % (ndate4))\n",
      "        \n",
      "        if os.path.isfile(ssef_file18) and os.path.isfile(stg4_file18):\n",
      "            ssef_files.append(ssef_file18)\n",
      "            stg4_files.append(stg4_file18)\n",
      "        if os.path.isfile(ssef_file24) and os.path.isfile(stg4_file24):\n",
      "            ssef_files.append(ssef_file24)\n",
      "            stg4_files.append(stg4_file24)\n",
      "        if os.path.isfile(ssef_file30) and os.path.isfile(stg4_file30):\n",
      "            ssef_files.append(ssef_file30)\n",
      "            stg4_files.append(stg4_file30)"
     ],
     "language": "python",
     "metadata": {},
     "outputs": []
    },
    {
     "cell_type": "markdown",
     "metadata": {},
     "source": [
      "Using the ssef files, setup the Numpy binary files that are to be used as output files"
     ]
    },
    {
     "cell_type": "code",
     "collapsed": false,
     "input": [
      "nout_files = []\n",
      "for sfile, s4file in zip(ssef_files, stg4_files):\n",
      "    date = os.path.basename(s4file).split('.')[1]\n",
      "    member = os.path.basename(sfile).split('.')[0]\n",
      "    try:\n",
      "        dt = datetime.datetime.strptime(date, '%Y%m%d%H')\n",
      "    except:\n",
      "        print(sfile, member, date)\n",
      "        raise\n",
      "    date4 = dt.strftime('%Y%m%d%H')\n",
      "    npbin_path = os.path.join(npbin_root, member)\n",
      "    if not os.path.isdir(npbin_path):\n",
      "        os.makedirs(npbin_path)\n",
      "    nout_file = os.path.join(npbin_path, '%s_dists_%s.npz' % (member, date4))\n",
      "    nout_files.append(nout_file)\n"
     ],
     "language": "python",
     "metadata": {},
     "outputs": []
    },
    {
     "cell_type": "markdown",
     "metadata": {},
     "source": [
      "Here, combine the stg4, ssef, and npbin files into lists were the files are grouped by the skip variable. This is done to reduce the overhead in each node. Then, create a keyword argument for each job that will be run."
     ]
    },
    {
     "cell_type": "code",
     "collapsed": false,
     "input": [
      "sfiles = []\n",
      "ffiles = []\n",
      "nfiles = []\n",
      "\n",
      "skip = 100\n",
      "for i in range(0, len(stg4_files), skip):\n",
      "    sfiles.append(stg4_files[i:i+skip])\n",
      "    ffiles.append(ssef_files[i:i+skip])\n",
      "    nfiles.append(nout_files[i:i+skip])\n",
      "files = zip(sfiles, ffiles, nfiles)\n",
      "cmds = []\n",
      "for i in range(len(sfiles)):\n",
      "    kwargs = {'stg4_files': sfiles[i], 'fcst_files': ffiles[i], \n",
      "              'nout_files': nfiles[i], 'mask': disser.mask}\n",
      "    cmds.append(kwargs)"
     ],
     "language": "python",
     "metadata": {},
     "outputs": []
    },
    {
     "cell_type": "code",
     "collapsed": false,
     "input": [
      "jobs = view.map(disser.calibration.hist.make_frequency_list, cmds)"
     ],
     "language": "python",
     "metadata": {},
     "outputs": []
    },
    {
     "cell_type": "code",
     "collapsed": false,
     "input": [
      "disser.misc.mpi_progress(view, jobs, len(cmds), 10)"
     ],
     "language": "python",
     "metadata": {},
     "outputs": []
    },
    {
     "cell_type": "code",
     "collapsed": false,
     "input": [],
     "language": "python",
     "metadata": {},
     "outputs": []
    }
   ],
   "metadata": {}
  }
 ]
}