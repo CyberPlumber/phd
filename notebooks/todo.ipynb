{
 "metadata": {
  "name": "phd_todo"
 },
 "nbformat": 3,
 "nbformat_minor": 0,
 "worksheets": [
  {
   "cells": [
    {
     "cell_type": "markdown",
     "metadata": {},
     "source": [
      "# PhD Todo List\n",
      "\n",
      "A running list of things that I should do for my PhD.\n",
      "\n",
      "-----\n",
      "\n",
      "## Concepts\n",
      "\n",
      "* Create 2D histograms for NSSL-WRF\n",
      "* Create NSSL-WRF forecasts\n",
      "* Verify NSSL-WRF forecasts\n",
      "* Create 2D histograms for SSEF Members\n",
      "* Create SSEF forecasts\n",
      "    * Randomly select 25-50% of available time periods and generate 2D histogram for each member\n",
      "    * Use 2D histogram from above to generate forecasts for each member\n",
      "    * Verify each member's forecast\n",
      "    * Ensemble the forecasts\n",
      "    * Verify the ensemble forecast\n",
      "    * Repeat 100 times\n",
      "\n",
      "-----\n",
      "\n",
      "## Code\n",
      "\n",
      "* Refactor the generic PhD Notebook into a stand-alone PhD module. (Might want a better module name than \"PhD\"...)\n",
      "\n",
      "-----\n",
      "\n",
      "## Figures\n",
      "\n",
      "* Histogram of precipitation objects by orientation\n",
      "* CDF of precipitation amounts from the STG4 Dataset\n",
      "* CDF of precipitation amounts from the NSSL-WRF\n",
      "* CDF of precipitation amounts from the SSEF Members \n",
      "\n"
     ]
    },
    {
     "cell_type": "code",
     "collapsed": false,
     "input": [],
     "language": "python",
     "metadata": {},
     "outputs": [],
     "prompt_number": 1
    }
   ],
   "metadata": {}
  }
 ]
}