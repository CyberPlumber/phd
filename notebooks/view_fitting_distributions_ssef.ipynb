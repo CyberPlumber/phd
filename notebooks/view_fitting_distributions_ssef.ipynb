{
 "metadata": {
  "name": "view_fitting_distributions_ssef"
 },
 "nbformat": 3,
 "nbformat_minor": 0,
 "worksheets": [
  {
   "cells": [
    {
     "cell_type": "code",
     "collapsed": false,
     "input": [
      "import os\n",
      "import sys\n",
      "import datetime\n",
      "from glob import glob\n",
      "import cPickle as pickle\n",
      "\n",
      "import pygrib\n",
      "import numpy as np\n",
      "import matplotlib.pyplot as plt\n",
      "import matplotlib.colors as mcolors\n",
      "from mpl_toolkits.basemap import Basemap\n",
      "from mpl_toolkits.axes_grid1 import ImageGrid\n",
      "from matplotlib.offsetbox import AnchoredText\n",
      "from matplotlib.patheffects import withStroke\n",
      "\n",
      "import hwt\n",
      "import stations\n",
      "import metpy as mp\n",
      "import disser; reload(disser)\n"
     ],
     "language": "python",
     "metadata": {},
     "outputs": []
    },
    {
     "cell_type": "code",
     "collapsed": false,
     "input": [
      "dx = 4.7\n",
      "factor = 5.\n",
      "radius = 400\n",
      "thresh = 25.4 * 1\n",
      "stg4_root = r'/raid/efp/se2011/pmarsh/stg4/06h'\n",
      "\n",
      "npbin_simulation_root = r'/raid/efp/se2012/pmarsh/phd/ssef/%03ikm/forecasts/%05.2f/06h/simulations' % (radius, thresh)\n",
      "pickle_file = os.path.join(npbin_simulation_root, r'simulation_config_%03ikm_%05.2f.pkl' % (radius, thresh))\n",
      "simulation_config = pickle.load(open(pickle_file, 'rb'))"
     ],
     "language": "python",
     "metadata": {},
     "outputs": []
    },
    {
     "cell_type": "code",
     "collapsed": false,
     "input": [
      "ahs = []; aks = []\n",
      "aihs = []; aiks = []\n",
      "asigxs = []; asigys = []\n",
      "axrots = []\n",
      "for mem in disser.misc.se2010_members:\n",
      "    hs = []; ks = []\n",
      "    ihs = []; iks = []\n",
      "    sigxs = []; sigys = []\n",
      "    xrots = []\n",
      "    for sim in range(1, simulation_config['number_of_simulations']+1):\n",
      "        hs.append(simulation_config['simulations'][sim][mem]['h'])\n",
      "        ks.append(simulation_config['simulations'][sim][mem]['k'])\n",
      "        ihs.append(simulation_config['simulations'][sim][mem]['ih'])\n",
      "        iks.append(simulation_config['simulations'][sim][mem]['ik'])\n",
      "        sigxs.append(simulation_config['simulations'][sim][mem]['sigx'])\n",
      "        sigys.append(simulation_config['simulations'][sim][mem]['sigy'])\n",
      "        xrots.append(simulation_config['simulations'][sim][mem]['xrot'])\n",
      "    ahs.append(np.asarray(hs)*dx)\n",
      "    aks.append(np.asarray(ks)*dx)\n",
      "    aihs.append(np.asarray(ihs)*dx)\n",
      "    aiks.append(np.asarray(iks)*dx)\n",
      "    asigxs.append(np.asarray(sigxs)*dx)\n",
      "    asigys.append(np.asarray(sigys)*dx)\n",
      "    axrots.append(np.asarray(xrots))\n",
      "        \n",
      "        \n",
      "# for h, k, ih, ik, sigx, sigy, xrot in zip(hs, ks, ihs, iks, sigxs, sigys, xrots):\n",
      "#     print('%6.3f, %6.3f, %6.3f, %6.3f, %6.3f, %2i, %2i' % (sigx, sigy, xrot, h, k, ih, ik))"
     ],
     "language": "python",
     "metadata": {},
     "outputs": []
    },
    {
     "cell_type": "code",
     "collapsed": false,
     "input": [
      "fig = plt.figure(figsize=(11.5,8))\n",
      "grid = ImageGrid(fig, 111, nrows_ncols=(1,1), aspect=False)\n",
      "ax = grid[0]\n",
      "B = ax.boxplot(axrots)\n",
      "ax.grid(axis='y')\n",
      "ax.set_title(r'Distributions of Fitting Parameter: $\\theta$', size=28)\n",
      "ax.title.set_y(1.05)\n",
      "ax.set_ylabel('Degrees', size=16, labelpad=20)\n",
      "ax.set_xlabel('Member', size=16, labelpad=15)\n",
      "ax.set_xticklabels(disser.misc.se2010_members, rotation=90, size=12)\n",
      "[(b.set_markersize(15),b.set_marker('*'),b.set_markerfacecolor('orange')) for b in B['fliers']]\n",
      "[b.set_linewidth(2) for b in B['caps']]\n",
      "[(b.set_linewidth(2),b.set_linestyle(':')) for b in B['whiskers']]\n",
      "[b.set_linewidth(2) for b in B['medians']]\n",
      "[b.set_linewidth(2) for b in B['boxes']];"
     ],
     "language": "python",
     "metadata": {},
     "outputs": []
    },
    {
     "cell_type": "code",
     "collapsed": false,
     "input": [
      "b.set_ma"
     ],
     "language": "python",
     "metadata": {},
     "outputs": []
    }
   ],
   "metadata": {}
  }
 ]
}