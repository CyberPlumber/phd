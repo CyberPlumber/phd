{
 "metadata": {
  "name": "view_ecdf_nssl"
 },
 "nbformat": 3,
 "nbformat_minor": 0,
 "worksheets": [
  {
   "cells": [
    {
     "cell_type": "code",
     "collapsed": false,
     "input": [
      "import os\n",
      "import sys\n",
      "import datetime\n",
      "import cPickle as pickle\n",
      "\n",
      "import numpy as np\n",
      "import matplotlib.pyplot as plt\n",
      "from mpl_toolkits.axes_grid1 import ImageGrid\n",
      "from matplotlib.ticker import MultipleLocator\n",
      "from matplotlib.lines import Line2D\n",
      "from matplotlib import rcParams\n",
      "\n",
      "import disser; reload(disser)"
     ],
     "language": "python",
     "metadata": {},
     "outputs": []
    },
    {
     "cell_type": "code",
     "collapsed": false,
     "input": [
      "print('Platform: {0.platform}\\nPython Version: {0.version}'.format(sys))\n",
      "print('Numpy Version: {0}'.format(np.__version__))\n",
      "print('Disser Version: {0}'.format(disser.__version__))"
     ],
     "language": "python",
     "metadata": {},
     "outputs": []
    },
    {
     "cell_type": "markdown",
     "metadata": {},
     "source": [
      "-----\n",
      "# View Emperical CDF from the NSSL-WRF"
     ]
    },
    {
     "cell_type": "code",
     "collapsed": false,
     "input": [
      "dist_root = r'/raid/efp/se2012/pmarsh/phd/deterministic/distributions/06h'\n",
      "bdt = datetime.datetime(2007, 4, 1, 0)\n",
      "edt = datetime.datetime(2010, 3, 31, 18)\n",
      "# bdt = datetime.datetime(2010, 4, 1, 0)\n",
      "# edt = datetime.datetime(2011, 3, 31, 18)\n",
      "hours = ((edt - bdt).days + 1) * 4\n",
      "dts = [bdt + datetime.timedelta(hours=i*6) for i in range(hours)]"
     ],
     "language": "python",
     "metadata": {},
     "outputs": []
    },
    {
     "cell_type": "code",
     "collapsed": false,
     "input": [
      "init = True\n",
      "for dt in dts:\n",
      "    dist_path = os.path.join(dist_root, '%s' % (dt.strftime('%Y/%m/')))\n",
      "    dist_file = os.path.join(dist_path, 'nssl_dists_%s.npz' % (dt.strftime('%Y%m%d%H')))\n",
      "    try:\n",
      "        f = np.load(dist_file)\n",
      "    except IOError:\n",
      "        continue\n",
      "    if init:\n",
      "        fcst_dist = f['fcst_dist']\n",
      "        stg4_dist = f['stg4_dist']\n",
      "        amts = f['amts']\n",
      "        init = False\n",
      "    else:\n",
      "        fcst_dist += f['fcst_dist']\n",
      "        stg4_dist += f['stg4_dist']"
     ],
     "language": "python",
     "metadata": {},
     "outputs": []
    },
    {
     "cell_type": "code",
     "collapsed": false,
     "input": [
      "thresh = 25.4 * 0.5\n",
      "stg4_thresh = thresh\n",
      "stg4_ecdf = disser.stat_tools.make_ecdf(stg4_dist)\n",
      "fcst_ecdf = disser.stat_tools.make_ecdf(fcst_dist)\n",
      "stg4_quant = disser.stat_tools.value_to_quantile(amts, stg4_ecdf, stg4_thresh)\n",
      "fcst_thresh = disser.stat_tools.quantile_to_value(amts, fcst_ecdf, stg4_quant)\n",
      "fcst_quant = disser.stat_tools.value_to_quantile(amts, fcst_ecdf, fcst_thresh)"
     ],
     "language": "python",
     "metadata": {},
     "outputs": []
    },
    {
     "cell_type": "code",
     "collapsed": false,
     "input": [
      "# rcParams['savefig.dpi'] = 1200\n",
      "\n",
      "fig = plt.figure(figsize=(17,7))\n",
      "grid = ImageGrid(fig, 111, nrows_ncols=(1,1), direction=\"column\",\n",
      "                 axes_pad=1.5, add_all=True, label_mode=\"each\",\n",
      "                 share_all=True, aspect=False)\n",
      "ax0 = grid[0]\n",
      "\n",
      "ax0.step(amts, stg4_ecdf, 'k', lw=3)\n",
      "ax0.step(amts, fcst_ecdf, 'r', lw=3)\n",
      "# ax0.plot([stg4_thresh, fcst_thresh], [stg4_quant, stg4_quant], 'b', lw=2, ls='-', zorder=10)\n",
      "# ax0.axhline(stg4_quants, color='k')\n",
      "# ax0.axvline(fcst_threshes, color='r')\n",
      "ax0.axhline(stg4_quant, color='b', ls='--', lw=2)\n",
      "ax0.axvline(stg4_thresh, color='k', ls='--', lw=2)\n",
      "ax0.set_ylim(0.975, 1)\n",
      "ax0.set_xlim(0, 70)\n",
      "ax0.set_xticks(np.arange(0, ax0.get_xlim()[1]+1e-10, 2))\n",
      "for ticks in ax0.get_xticklabels() + ax0.get_yticklabels():\n",
      "    ticks.set_size(14)\n",
      "\n",
      "\n",
      "ax0.xaxis.set_minor_locator(MultipleLocator(0.5))\n",
      "ax0.xaxis.set_tick_params(which='major', direction='inout', length=16, width=1.25, pad=15)\n",
      "ax0.xaxis.set_tick_params(which='minor', direction='in', length=4, width=0.75, pad=15)\n",
      "ax0.set_xlabel('6 hr Accumulation (mm)', size=18, labelpad=20)\n",
      "\n",
      "ax0.yaxis.set_minor_locator(MultipleLocator(0.0005))\n",
      "ax0.yaxis.set_tick_params(which='major', direction='inout', length=16, width=1.25, pad=10)\n",
      "ax0.yaxis.set_tick_params(which='minor', direction='in', length=4, width=0.75, pad=15)\n",
      "ax0.set_ylabel('Quantile', size=18, labelpad=20)\n",
      "\n",
      "ax0.grid()\n",
      "ax0.title.set_y(1.075)\n",
      "ax0.set_title('Emperical CDF for NSSL-WRF\\nSTAGE IV THRESH: %s mm (6 hrs)$^{-1}$                STAGE IV QUANTILE: %2.2f%%' % (stg4_thresh, stg4_quant*100), size=24)\n",
      "\n",
      "dist = range(10)\n",
      "line1 = Line2D(dist, dist, color='r', lw=4)\n",
      "line2 = Line2D(dist, dist, color='k', lw=4)\n",
      "label1 = 'NSSL-WRF'\n",
      "label2 = 'STG4'\n",
      "ax0.legend([line1, line2], [label1, label2], fancybox=True, shadow=True, loc=(0.8, 0.15), prop={\"size\": 16})\n",
      "plt.savefig('ecdf-nsslwrf-%02imm.pdf' % (thresh), bbox_inches='tight')"
     ],
     "language": "python",
     "metadata": {},
     "outputs": []
    },
    {
     "cell_type": "code",
     "collapsed": false,
     "input": [
      "inds = np.where(amts >= stg4_thresh)[0][0]\n",
      "ssum = stg4_dist[inds:].sum()\n",
      "fsum = fcst_dist[inds:].sum()\n",
      "\n",
      "inds = np.where(amts >= fcst_thresh)[0][0]\n",
      "bssum = stg4_dist[inds:].sum()\n",
      "bfsum = fcst_dist[inds:].sum()"
     ],
     "language": "python",
     "metadata": {},
     "outputs": []
    },
    {
     "cell_type": "code",
     "collapsed": false,
     "input": [
      "print('Observed Threshold: %f' % (stg4_thresh))\n",
      "print('Forecast Threshold: %f' % (fcst_thresh))\n",
      "print('%% of Forecast Grid Points Exceeding Thresh: %f' % ((1 - fcst_quant) * 100.))\n",
      "print('%% of Observed Grid Points Exceeding Thresh: %f' % ((1 - stg4_quant) * 100.))\n",
      "print('# Forecast Points: %i' % (fsum))\n",
      "print('# Observed Points: %i' % (ssum))\n",
      "print('Bias: %f' % (fsum / ssum))\n",
      "print('# Bias-Corrected Forecast Points: %i' % (bfsum))\n",
      "print('Bias-Corrected Bias: %f' % (bfsum / ssum))\n",
      "\n"
     ],
     "language": "python",
     "metadata": {},
     "outputs": []
    },
    {
     "cell_type": "code",
     "collapsed": false,
     "input": [
      "plt.semilogy(amts[inds], stg4_dist[inds])\n",
      "stg4_dist[inds].sum()\n"
     ],
     "language": "python",
     "metadata": {},
     "outputs": []
    },
    {
     "cell_type": "code",
     "collapsed": false,
     "input": [],
     "language": "python",
     "metadata": {},
     "outputs": []
    }
   ],
   "metadata": {}
  }
 ]
}