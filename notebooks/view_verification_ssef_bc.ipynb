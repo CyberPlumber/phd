{
 "metadata": {
  "name": "view_verification_ssef_bc"
 },
 "nbformat": 3,
 "nbformat_minor": 0,
 "worksheets": [
  {
   "cells": [
    {
     "cell_type": "code",
     "collapsed": false,
     "input": [
      "import os, sys\n",
      "import datetime\n",
      "import numpy as np\n",
      "import scipy as sp\n",
      "import matplotlib.pyplot as plt\n",
      "from mpl_toolkits.axes_grid1 import ImageGrid\n",
      "from matplotlib.ticker import MultipleLocator\n",
      "from matplotlib.offsetbox import AnchoredText\n",
      "from matplotlib.patheffects import withStroke\n",
      "from matplotlib.lines import Line2D\n",
      "import cPickle as pickle\n",
      "import disser\n",
      "import veripy as vp"
     ],
     "language": "python",
     "metadata": {},
     "outputs": []
    },
    {
     "cell_type": "code",
     "collapsed": false,
     "input": [
      "print('Platform: {0.platform}\\nPython Version: {0.version}'.format(sys))\n",
      "print('Numpy Version: {0}'.format(np.__version__))\n",
      "print('Veripy Version: {0}'.format(vp.__version__))\n",
      "print('Disser Version: {0}'.format(disser.__version__))"
     ],
     "language": "python",
     "metadata": {},
     "outputs": []
    },
    {
     "cell_type": "code",
     "collapsed": false,
     "input": [
      "def add_inner_title(ax, title, loc, size=None, **kwargs):\n",
      "    if size is None:\n",
      "        size = plt.rcParams['legend.fontsize']\n",
      "    at = AnchoredText(title, loc=loc, prop=dict(size=size),\n",
      "                      frameon=True, **kwargs)\n",
      "    at.txt._text.set_path_effects([withStroke(foreground=\"w\", linewidth=3)])\n",
      "    at.patch.set_boxstyle(\"round,pad=0.,rounding_size=0.2\")\n",
      "    at.patch.set_fc(\"#DADADA\")\n",
      "    ax.add_artist(at)\n",
      "    return at\n"
     ],
     "language": "python",
     "metadata": {},
     "outputs": []
    },
    {
     "cell_type": "markdown",
     "metadata": {},
     "source": [
      "-----\n",
      "# View SSEF Verification\n"
     ]
    },
    {
     "cell_type": "code",
     "collapsed": false,
     "input": [
      "def read_vfile(vfile):\n",
      "    data = np.recfromcsv(vfile, unpack=True, dtype=None, skip_header=3, names=True)\n",
      "    lines = open(vfile, 'r').readlines()[:2]\n",
      "    lines = [line.strip().strip('###').strip() for line in lines]\n",
      "    nssl = int(lines[0].split(':')[-1])\n",
      "    stg4 = int(lines[1].split(':')[-1])\n",
      "    return data.fcount, data.ocount, nssl, stg4\n"
     ],
     "language": "python",
     "metadata": {},
     "outputs": []
    },
    {
     "cell_type": "markdown",
     "metadata": {},
     "source": [
      "-----\n",
      "### Read In Data"
     ]
    },
    {
     "cell_type": "code",
     "collapsed": false,
     "input": [
      "radius = 400\n",
      "thresh = 25.4 * 1\n",
      "hamill = True\n",
      "\n",
      "\n",
      "bin_every = 5\n",
      "h_bin_every = bin_every / 2\n",
      "\n",
      "npbin_simulation_root = r'/raid/efp/se2012/pmarsh/phd/ssef_bc/%03ikm/forecasts/%05.2f/06h/simulations' % (radius, thresh)\n",
      "if hamill:\n",
      "    hamill_root = r'/raid/efp/se2012/pmarsh/phd/hamill/verification/%05.2f' % (thresh)\n",
      "    files = !ls $hamill_root\n",
      "    dts = [datetime.datetime.strptime(os.path.basename(f).split('.')[0], '%Y%m%d%H') for f in files if 'totals' not in f]\n",
      "    hamill_totals_path = os.path.join(hamill_root, 'totals')\n",
      "    master = os.path.join(hamill_totals_path, '%s-%s.csv' % (dts[0].strftime('%Y%m%d%H'), dts[-1].strftime('%Y%m%d%H')))\n",
      "    hfcount, hocount, hamill_total, hstg4_total = read_vfile(master)\n",
      "\n",
      "pickle_file = os.path.join(npbin_simulation_root, r'simulation_config_%03ikm_%05.2f.pkl' % (radius, thresh))\n",
      "simulation_config = pickle.load(open(pickle_file, 'rb'))\n"
     ],
     "language": "python",
     "metadata": {},
     "outputs": []
    },
    {
     "cell_type": "code",
     "collapsed": false,
     "input": [
      "members = disser.misc.se2010_members\n",
      "fcounts = []\n",
      "ocounts = []\n",
      "fcsts = []\n",
      "obss = []\n",
      "stderror = []\n",
      "colors = []\n",
      "for member in members:\n",
      "    if member not in []:\n",
      "        colors.append('#333333')\n",
      "    afcounts = []\n",
      "    aocounts = []\n",
      "    aopers = []\n",
      "    afcsts = []\n",
      "    aobss = []\n",
      "    for simulation in range(1, simulation_config['number_of_simulations']+1):\n",
      "        vfile = simulation_config['simulations'][simulation][member]['verif_file']\n",
      "        afcount, aocount, afcst_total, astg4_total = read_vfile(vfile)\n",
      "        # print(member, simulation, afcst_total, astg4_total, afcst_total / float(astg4_total))\n",
      "        afcounts.append(afcount)\n",
      "        aocounts.append(aocount)\n",
      "        filtered_fcst, filtered_obs, fpercent, opercent = disser.viz.prepare_reliability(afcount, aocount)\n",
      "        afcst, aobs = disser.viz.combine_bins(filtered_fcst, filtered_obs, bin_every)\n",
      "        aoper = aobs / afcst * 100.\n",
      "        aopers.append(aoper)\n",
      "        afcsts.append(afcst)\n",
      "        aobss.append(aobs)\n",
      "    afcounts = np.array(afcounts)\n",
      "    aocounts = np.array(aocounts)\n",
      "    aopers = np.asarray(aopers)\n",
      "    aopers[np.isnan(aopers)] = 0\n",
      "    afcsts = np.asarray(afcsts)\n",
      "    aobss = np.asarray(aobss)\n",
      "    fcounts.append(afcounts.mean(axis=0))\n",
      "    ocounts.append(aocounts.mean(axis=0))\n",
      "    stderror.append(aopers.std(axis=0))\n",
      "    fcsts.append(afcsts.mean(axis=0))\n",
      "    obss.append(aobss.mean(axis=0))"
     ],
     "language": "python",
     "metadata": {},
     "outputs": []
    },
    {
     "cell_type": "markdown",
     "metadata": {},
     "source": [
      "-----\n",
      "### Plotting"
     ]
    },
    {
     "cell_type": "code",
     "collapsed": false,
     "input": [
      "fig = plt.figure(figsize=(20,10))\n",
      "grid = ImageGrid(fig, 111, nrows_ncols=(1,2), direction=\"column\",\n",
      "                 axes_pad=1.5, add_all=True, label_mode=\"each\",\n",
      "                 share_all=False, cbar_location=\"bottom\", cbar_mode=\"none\",\n",
      "                 cbar_size=\"5%\", cbar_pad=\"5%\")\n",
      "ax0 = grid[0]; cax0 = grid.cbar_axes[0]\n",
      "ax0 = disser.viz.performance_diagram(ax=ax0)\n",
      "ax1 = grid[1]; cax1 = grid.cbar_axes[1]\n",
      "ax1 = disser.viz.reliability(ax=ax1)\n",
      "\n",
      "llines = []\n",
      "llabels = []\n",
      "bin_every = 5\n",
      "h_bin_every = bin_every / 2\n",
      "\n",
      "\n",
      "for fcst, obs, stderr, color in zip(fcsts, obss, stderror, colors):\n",
      "    stderr1 = stderr / 100. * 1\n",
      "    stderr2 = stderr / 100. * 2\n",
      "    oper = obs / fcst * 100.\n",
      "    fper = np.arange(h_bin_every, 100+1e-6, bin_every)\n",
      "    fper = np.insert(fper, 0, 0)\n",
      "    fper = np.append(fper, 1)\n",
      "    \n",
      "    # Create Data for Performance Diagram\n",
      "    a, b, c, d = vp.convert.reliability2contingency(fcst, obs)\n",
      "    pod = vp.contingency.pod(a, b, c, d)\n",
      "    far = vp.contingency.far(a, b, c, d)\n",
      "    \n",
      "    ax0.plot(1-far, pod, marker='.', linestyle='-', linewidth=1.5, markersize=10, color=color)\n",
      "    ax1.plot(fper/100., oper/100., marker='.', lw=1.5, ms=10, linestyle='-', color=color)\n",
      "    # ax1.fill_between(fper/100., oper/100.+stderr2, oper/100.-stderr2, color=\"#888888\", alpha=0.1)\n",
      "    ax1.fill_between(fper/100., oper/100.+stderr1, oper/100.-stderr1, color=\"#4A4A4A\", alpha=0.1)\n",
      "\n",
      "\n",
      "if hamill:\n",
      "    filtered_fcst, filtered_obs, fpercent, opercent = disser.viz.prepare_reliability(hfcount, hocount)\n",
      "    fcst, obs = disser.viz.combine_bins(filtered_fcst, filtered_obs, bin_every)\n",
      "    oper = obs / fcst * 100.\n",
      "    fper = np.arange(h_bin_every, 100+1e-6, bin_every)\n",
      "    fper = np.insert(fper, 0, 0)\n",
      "    fper = np.append(fper, 1)\n",
      "    a, b, c, d = vp.convert.reliability2contingency(fcst, obs)\n",
      "    pod = vp.contingency.pod(a, b, c, d)\n",
      "    far = vp.contingency.far(a, b, c, d)\n",
      "    ax0.plot(1-far, pod, marker='.', linestyle='-', linewidth=1.5, markersize=10, color='red')\n",
      "    ax1.plot(fper/100., oper/100., marker='.', lw=1.5, ms=10, linestyle='-', color='red')\n",
      "\n",
      "    \n",
      "\n",
      "    \n",
      "\n",
      "ax1.grid(True)\n",
      "fig.suptitle('Verification of Probability of Exceedance\\nThreshold: %.2f mm (6 hrs)$^{-1}$\\nFitting Radius: %i km' % (thresh, radius), size=24, y=1.075);\n",
      "\n",
      "add_inner_title(ax0, 'a)', 1, size=18)\n",
      "add_inner_title(ax1, 'b)', 2, size=18)\n"
     ],
     "language": "python",
     "metadata": {},
     "outputs": []
    },
    {
     "cell_type": "code",
     "collapsed": false,
     "input": [],
     "language": "python",
     "metadata": {},
     "outputs": []
    }
   ],
   "metadata": {}
  }
 ]
}