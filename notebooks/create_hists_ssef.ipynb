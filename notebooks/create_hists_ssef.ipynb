{
 "metadata": {
  "name": "create_hists_ssef"
 },
 "nbformat": 3,
 "nbformat_minor": 0,
 "worksheets": [
  {
   "cells": [
    {
     "cell_type": "code",
     "collapsed": false,
     "input": [
      "from IPython.parallel import Client\n",
      "import os\n",
      "import sys\n",
      "import time\n",
      "import datetime\n",
      "import numpy as np\n",
      "from glob import glob\n",
      "\n",
      "import hwt\n",
      "import disser; reload(disser)"
     ],
     "language": "python",
     "metadata": {},
     "outputs": []
    },
    {
     "cell_type": "code",
     "collapsed": false,
     "input": [
      "print('Platform: {0.platform}\\nPython Version: {0.version}'.format(sys))\n",
      "print('Numpy Version: {0}'.format(np.__version__))\n",
      "print('HWT Version: {0}'.format(hwt.__version__))\n",
      "print('Disser Version: {0}'.format(disser.__version__))"
     ],
     "language": "python",
     "metadata": {},
     "outputs": []
    },
    {
     "cell_type": "markdown",
     "metadata": {},
     "source": [
      "-----\n",
      "## Create SSEF Histograms\n"
     ]
    },
    {
     "cell_type": "code",
     "collapsed": false,
     "input": [
      "rc = Client()\n",
      "%px import disser\n",
      "view = rc.load_balanced_view()    # Load-Balanced View\n"
     ],
     "language": "python",
     "metadata": {},
     "outputs": []
    },
    {
     "cell_type": "code",
     "collapsed": false,
     "input": [
      "thresh = 25.4 * 0.5\n",
      "radius = 400\n",
      "dx = 4.7\n",
      "\n",
      "stg4_root = r'/raid/efp/se2011/pmarsh/stg4/06h'\n",
      "ssef_root = r'/raid/efp/se2011/pmarsh/ssef_precip'\n",
      "npbin_root = r'/raid/efp/se2012/pmarsh/phd/ssef/%03ikm/2dhists/%05.2f/06h' % (radius, thresh)\n"
     ],
     "language": "python",
     "metadata": {},
     "outputs": []
    },
    {
     "cell_type": "code",
     "collapsed": false,
     "input": [
      "stg4_files = []\n",
      "ssef_files = []\n",
      "for member in disser.misc.se2010_members:\n",
      "    for date2 in disser.misc.sedates:\n",
      "        dt = datetime.datetime.strptime(date2, '%y%m%d')\n",
      "        date4 = dt.strftime('%Y%m%d')\n",
      "        ndate4 = (dt + datetime.timedelta(days=1)).strftime('%Y%m%d')\n",
      "        yrmo = dt.strftime('%Y/%m')\n",
      "        ssef_path = os.path.join(ssef_root, os.path.join(date2, member))\n",
      "        ssef_file18 = os.path.join(ssef_path, '%s.%sf18.06h' % (member, date4))\n",
      "        ssef_file24 = os.path.join(ssef_path, '%s.%sf24.06h' % (member, date4))\n",
      "        ssef_file30 = os.path.join(ssef_path, '%s.%sf30.06h' % (member, date4))\n",
      "\n",
      "        stg4_path = os.path.join(stg4_root, yrmo)\n",
      "        stg4_file18 = os.path.join(stg4_path, 'ST4.%s18.06h' % (date4))\n",
      "        stg4_file24 = os.path.join(stg4_path, 'ST4.%s00.06h' % (ndate4))\n",
      "        stg4_file30 = os.path.join(stg4_path, 'ST4.%s06.06h' % (ndate4))\n",
      "        \n",
      "        if os.path.isfile(ssef_file18) and os.path.isfile(stg4_file18):\n",
      "            ssef_files.append(ssef_file18)\n",
      "            stg4_files.append(stg4_file18)\n",
      "        if os.path.isfile(ssef_file24) and os.path.isfile(stg4_file24):\n",
      "            ssef_files.append(ssef_file24)\n",
      "            stg4_files.append(stg4_file24)\n",
      "        if os.path.isfile(ssef_file30) and os.path.isfile(stg4_file30):\n",
      "            ssef_files.append(ssef_file30)\n",
      "            stg4_files.append(stg4_file30)\n",
      "            "
     ],
     "language": "python",
     "metadata": {},
     "outputs": []
    },
    {
     "cell_type": "code",
     "collapsed": false,
     "input": [
      "nout_files = []\n",
      "for sfile in ssef_files:\n",
      "    sfile_name = os.path.basename(sfile)\n",
      "    sfile_parts = sfile_name.split('.')\n",
      "    member = sfile_parts[0]\n",
      "    date_part = sfile_parts[1].split('f')\n",
      "    dt = datetime.datetime.strptime(date_part[0], '%Y%m%d')\n",
      "    hour = int(date_part[1])%24\n",
      "    dt = dt.replace(hour=hour)\n",
      "    if hour <= 12:\n",
      "        dt += datetime.timedelta(days=1)\n",
      "    yr = dt.strftime('%Y')\n",
      "    npbin_path = os.path.join(npbin_root, member)\n",
      "    npbin_path = os.path.join(npbin_path, yr)\n",
      "    if not os.path.isdir(npbin_path):\n",
      "        os.makedirs(npbin_path)\n",
      "    date4 = dt.strftime('%Y%m%d%H')\n",
      "    nout_file = os.path.join(npbin_path, '%s.npz' % (date4))\n",
      "    nout_files.append(nout_file)\n"
     ],
     "language": "python",
     "metadata": {},
     "outputs": []
    },
    {
     "cell_type": "code",
     "collapsed": false,
     "input": [
      "sfiles = []\n",
      "ffiles = []\n",
      "nfiles = []\n",
      "skip = 25\n",
      "for i in range(0, len(stg4_files), skip):\n",
      "    sfiles.append(stg4_files[i:i+skip])\n",
      "    ffiles.append(ssef_files[i:i+skip])\n",
      "    nfiles.append(nout_files[i:i+skip])\n",
      "files = zip(sfiles, ffiles, nfiles)"
     ],
     "language": "python",
     "metadata": {},
     "outputs": []
    },
    {
     "cell_type": "code",
     "collapsed": false,
     "input": [
      "cmds = []\n",
      "for i in range(len(sfiles)):\n",
      "    kwargs = {'stg4_files': sfiles[i], 'fcst_files': ffiles[i], \n",
      "              'nout_files': nfiles[i], 'radius': radius, 'dx': dx, \n",
      "              'fcst_thresh': thresh, 'stg4_thresh': thresh, 'mask': disser.mask}\n",
      "    cmds.append(kwargs)"
     ],
     "language": "python",
     "metadata": {},
     "outputs": []
    },
    {
     "cell_type": "code",
     "collapsed": false,
     "input": [
      "jobs = view.map(disser.calibration.create_hist2d, cmds)"
     ],
     "language": "python",
     "metadata": {},
     "outputs": []
    },
    {
     "cell_type": "code",
     "collapsed": false,
     "input": [],
     "language": "python",
     "metadata": {},
     "outputs": []
    }
   ],
   "metadata": {}
  }
 ]
}