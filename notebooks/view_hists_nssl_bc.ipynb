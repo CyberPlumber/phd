{
 "metadata": {
  "name": "view_hists_nssl_bc"
 },
 "nbformat": 3,
 "nbformat_minor": 0,
 "worksheets": [
  {
   "cells": [
    {
     "cell_type": "code",
     "collapsed": false,
     "input": [
      "from IPython.parallel import Client\n",
      "import os, sys\n",
      "import datetime\n",
      "import numpy as np\n",
      "import matplotlib as mpl\n",
      "import matplotlib.pyplot as plt\n",
      "from mpl_toolkits.axes_grid1 import ImageGrid\n",
      "from scipy import ndimage\n",
      "\n",
      "import hwt\n",
      "import metpy as mp\n",
      "import disser; reload(disser)"
     ],
     "language": "python",
     "metadata": {},
     "outputs": []
    },
    {
     "cell_type": "code",
     "collapsed": false,
     "input": [
      "print('Platform: {0.platform}\\nPython Version: {0.version}'.format(sys))\n",
      "print('Numpy Version: {0}'.format(np.__version__))\n",
      "print('HWT Version: {0}'.format(hwt.__version__))\n",
      "print('Disser Version: {0}'.format(disser.__version__))"
     ],
     "language": "python",
     "metadata": {},
     "outputs": []
    },
    {
     "cell_type": "markdown",
     "metadata": {},
     "source": [
      "-----\n",
      "# View NSSL-WRF Histograms\n",
      "\n"
     ]
    },
    {
     "cell_type": "code",
     "collapsed": false,
     "input": [
      "thresh = 25.4 * 1\n",
      "radius = 300\n",
      "dx = 4.7\n",
      "\n",
      "stg4_root = r'/raid/efp/se2011/pmarsh/stg4/06h'\n",
      "nssl_root = r'/raid/efp/se2011/pmarsh/nssl/06h'\n",
      "npbin_root = r'/raid/efp/se2012/pmarsh/phd/bc-deterministic/%03ikm/2dhists/%05.2f/06h' % (radius, thresh)\n",
      "\n",
      "bdt = datetime.datetime(2007, 4, 1, 0)\n",
      "edt = datetime.datetime(2010, 3, 31, 18)\n",
      "dts = [bdt + datetime.timedelta(hours=i*6) for i in range(4+(edt-bdt).days*4)]\n"
     ],
     "language": "python",
     "metadata": {},
     "outputs": []
    },
    {
     "cell_type": "code",
     "collapsed": false,
     "input": [
      "initial = True\n",
      "for dt in dts:\n",
      "    yrmo = dt.strftime('%Y/%m')\n",
      "    date4 = dt.strftime('%Y%m%d%H')\n",
      "    npbin_path = os.path.join(npbin_root, yrmo)\n",
      "    nout_file = os.path.join(npbin_path, '%s.npz' % (date4))\n",
      "    if os.path.isfile(nout_file):\n",
      "        f = np.load(nout_file)\n",
      "        if initial:\n",
      "            hist = f['hist2d']\n",
      "            initial = False\n",
      "        else:\n",
      "            hist += f['hist2d']\n",
      "hist = np.ma.asarray(hist)\n",
      "hist[hist < 0] = np.ma.masked"
     ],
     "language": "python",
     "metadata": {},
     "outputs": []
    },
    {
     "cell_type": "code",
     "collapsed": false,
     "input": [
      "hist_orig = hist.copy()\n",
      "hist_orig.max()"
     ],
     "language": "python",
     "metadata": {},
     "outputs": []
    },
    {
     "cell_type": "code",
     "collapsed": false,
     "input": [
      "nx, ny = hist.shape\n",
      "hnx, hny = np.floor(nx / 2), np.floor(ny / 2)\n",
      "x = np.arange(-hnx, hnx+1) * dx\n",
      "y = np.arange(-hny, hny+1) * dx\n",
      "xx, yy = np.meshgrid(x, y)"
     ],
     "language": "python",
     "metadata": {},
     "outputs": []
    },
    {
     "cell_type": "code",
     "collapsed": false,
     "input": [
      "if thresh == 25.4:\n",
      "    hist = hist.astype(float) / 100000\n",
      "else:\n",
      "    hist = hist.astype(float) / 1000000"
     ],
     "language": "python",
     "metadata": {},
     "outputs": []
    },
    {
     "cell_type": "code",
     "collapsed": false,
     "input": [
      "cmap = plt.cm.RdPu\n",
      "cmap = plt.cm.YlOrRd\n",
      "if thresh == 25.4:\n",
      "    vmin = 0; vmax = 7; step = 0.5\n",
      "else:\n",
      "    vmin = 0; vmax = 5; step = 0.5\n",
      "norm = mpl.colors.Normalize(vmin=vmin, vmax=vmax)\n",
      "\n",
      "fig = plt.figure(figsize=(12, 12), dpi=300)\n",
      "grid = ImageGrid(fig, 111, nrows_ncols=(1, 1), axes_pad=0.2, aspect=True, \n",
      "                 label_mode='L', cbar_location='right', cbar_mode='each', \n",
      "                 cbar_pad=0.5, cbar_size='5%')\n",
      "ax0 = grid[0]; cax0 = grid.cbar_axes[0]\n",
      "\n",
      "cbar0 = ax0.pcolormesh(xx, yy, hist, cmap=cmap, norm=norm)\n",
      "ax0.plot(0, 0, 'wo', markersize=10)\n",
      "y0, x0 = mp.kde.ndimage.center_of_mass(hist)\n",
      "ax0.plot((x0-hnx)*dx, (y0-hny)*dx, 'ko', markersize=10)\n",
      "if thresh == 25.4:\n",
      "    cntrs = ax0.contour(xx, yy, hist, levels=np.arange(vmin, vmax+1e-11, step)[::2],\n",
      "                   colors='black', linewidths=2, linestyles=\":\")\n",
      "else:\n",
      "    cntrs = ax0.contour(xx, yy, hist, levels=np.arange(vmin, vmax+1e-11, step),\n",
      "                   colors='black', linewidths=2, linestyles=\":\")\n",
      "clabs = ax0.clabel(cntrs, cntrs.levels[:], fmt='%0.1f')\n",
      "for clab in clabs:\n",
      "    clab.set_rotation(0)\n",
      "    clab.set_size(18)\n",
      "    clab.set_bbox(dict(boxstyle='round', facecolor='white', lw=0.5))\n",
      "cax0.colorbar(cbar0)\n",
      "\n",
      "cax0.set_yticks(np.arange(vmin, vmax+1e-11, step))\n",
      "if thresh == 25.4:\n",
      "    cax0.set_ylabel('Number of Observations (in Hundred Thousands)', size=12)\n",
      "else:\n",
      "    cax0.set_ylabel('Number of Observations (in Millions)', size=12)\n",
      "cax0.yaxis.set_label_position(\"left\")\n",
      "\n",
      "ax0.set_title('Bias-Corrected NSSL-WRF Composite\\nRadius: %skm         STG4 Threshold: %smm\\n' % (radius, thresh), size=24)\n",
      "ax0.set_xticks(np.arange(-radius, radius+1e-11, 50))\n",
      "ax0.set_xticks(np.arange(-radius, radius+1e-11, 25), minor=True)\n",
      "ax0.set_xticklabels(ax0.get_xticks().astype(int), size=12)\n",
      "ax0.set_xlabel('\\n\\nKilometers from Forecast Point', size=16)\n",
      "\n",
      "ax0.set_yticks(np.arange(-radius, radius+1e-11, 50))\n",
      "ax0.set_yticks(np.arange(-radius, radius+1e-11, 25), minor=True)\n",
      "ax0.set_yticklabels(ax0.get_yticks().astype(int), size=12)\n",
      "ax0.set_ylabel('Kilometers from Forecast Point\\n', size=16)\n",
      "\n",
      "ax0.grid(True)\n",
      "ax0.tick_params(which='major', direction='inout', length=12, width=1, pad=10)\n",
      "ax0.tick_params(which='minor', direction='inout', length=6, width=1, pad=10)\n",
      "# ax0.tick_params(which='minor', direction='inout', length=4, color='r')\n"
     ],
     "language": "python",
     "metadata": {},
     "outputs": []
    },
    {
     "cell_type": "code",
     "collapsed": false,
     "input": [
      "\n",
      "sigx, sigy, xrot = mp.kde.fit_gauss2d_alt(hist_orig)\n",
      "nx = hist.shape[0]\n",
      "hnx = np.floor(nx / 2)\n",
      "y, x = ndimage.center_of_mass(hist_orig)\n",
      "x -= hnx\n",
      "y -= hnx\n",
      "ih = round(x)\n",
      "ik = round(y)\n",
      "if x > (-0.5 + 1e-11) and x < 0:\n",
      "    ih = -ih\n",
      "if y > (-0.5 + 1e-11) and y < 0:\n",
      "    ik = -ik\n",
      "    \n",
      "print('SIGX: %f' % sigx)\n",
      "print('SIGY: %f' % sigy)\n",
      "print('XROT: %f' % xrot)\n",
      "print('H: %f' % x)\n",
      "print('K: %f' % y)\n",
      "print('IH: %i' % ih)\n",
      "print('IK: %i' % ik)"
     ],
     "language": "python",
     "metadata": {},
     "outputs": []
    }
   ],
   "metadata": {}
  }
 ]
}