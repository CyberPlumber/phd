{
 "metadata": {
  "name": "create_forecasts"
 },
 "nbformat": 3,
 "nbformat_minor": 0,
 "worksheets": [
  {
   "cells": [
    {
     "cell_type": "code",
     "collapsed": false,
     "input": [
      "from IPython.parallel import Client\n",
      "import os\n",
      "import sys\n",
      "import time\n",
      "import datetime\n",
      "import numpy as np\n",
      "\n",
      "import hwt\n",
      "import disser; reload(disser)"
     ],
     "language": "python",
     "metadata": {},
     "outputs": []
    },
    {
     "cell_type": "code",
     "collapsed": false,
     "input": [
      "print('Platform: {0.platform}\\nPython Version: {0.version}'.format(sys))\n",
      "print('Numpy Version: {0}'.format(np.__version__))\n",
      "print('HWT Version: {0}'.format(hwt.__version__))\n",
      "print('Disser Version: {0}'.format(disser.__version__))"
     ],
     "language": "python",
     "metadata": {},
     "outputs": []
    },
    {
     "cell_type": "markdown",
     "metadata": {},
     "source": [
      "-----\n",
      "## Create NSSL-WRF Forecasts\n"
     ]
    },
    {
     "cell_type": "code",
     "collapsed": false,
     "input": [
      "rc = Client()\n",
      "%px import disser\n",
      "view = rc.load_balanced_view()    # Load-Balanced View\n"
     ],
     "language": "python",
     "metadata": {},
     "outputs": []
    },
    {
     "cell_type": "code",
     "collapsed": false,
     "input": [
      "dx = 4.7\n",
      "radius = 300\n",
      "factor = 5.\n",
      "thresh = 25.4 * 2\n",
      "if thresh == 6.35:\n",
      "    if radius == 500:\n",
      "        parms = {'sigx': 50.1538536213, 'sigy': 44.4925945179, 'xrot': 63.6702005615, 'h': 2, 'k': 3}\n",
      "elif thresh == 12.7:\n",
      "    if radius == 500:\n",
      "        parms = {'sigx': 50.8637731829, 'sigy': 42.2477996776, 'xrot': 61.2903721585, 'h': 3, 'k': 3}\n",
      "elif thresh == 25.4:\n",
      "    if radius == 500:\n",
      "        parms = {'sigx': 49.6364371906, 'sigy': 37.8579463657, 'xrot': 55.1934294276, 'h': 5, 'k': 2}\n",
      "elif thresh == 38.1:\n",
      "    if radius == 500:\n",
      "        parms = {'sigx': 47.6726390519, 'sigy': 33.9016147968, 'xrot': 55.2660835024, 'h': 7, 'k': 2}\n",
      "elif thresh == 50.8:\n",
      "    if radius == 500:\n",
      "        parms = {'sigx': 43.340103834, 'sigy': 22.5085628075, 'xrot': 48.7490186112, 'h': 3, 'k': 7}\n",
      "\n",
      "stg4_root = r'/raid/efp/se2011/pmarsh/stg4/06h'\n",
      "nssl_root = r'/raid/efp/se2011/pmarsh/nssl/06h'\n",
      "npbin_root = r'/raid/efp/se2012/pmarsh/phd/deterministic/%03ikm/forecasts/%06.2f/06h' % (radius, thresh)\n",
      "\n",
      "bdt = datetime.datetime(2010, 4, 1, 0)\n",
      "edt = datetime.datetime(2011, 3, 31, 18)\n",
      "dts = [bdt + datetime.timedelta(hours=i*6) for i in range(4+(edt-bdt).days*4)]\n"
     ],
     "language": "python",
     "metadata": {},
     "outputs": []
    },
    {
     "cell_type": "code",
     "collapsed": false,
     "input": [
      "stg4_files = []\n",
      "nssl_files = []\n",
      "valid_dts = []\n",
      "for dt in dts:\n",
      "    yrmo = os.path.join('%04i' % (dt.year), '%02i' % (dt.month))\n",
      "    date4 = dt.strftime('%Y%m%d%H')\n",
      "    stg4_path = os.path.join(stg4_root, yrmo)\n",
      "    stg4_file = os.path.join(stg4_path, 'ST4.%s.06h' % (date4))\n",
      "    nssl_path = os.path.join(nssl_root, yrmo)\n",
      "    nssl_file = os.path.join(nssl_path, 'NSSL.%s.06h' % (date4))\n",
      "    if os.path.isfile(stg4_file) and os.path.isfile(nssl_file):\n",
      "        stg4_files.append(stg4_file)\n",
      "        nssl_files.append(nssl_file)\n",
      "        valid_dts.append(dt)"
     ],
     "language": "python",
     "metadata": {},
     "outputs": []
    },
    {
     "cell_type": "code",
     "collapsed": false,
     "input": [
      "nout_files = []\n",
      "for dt in valid_dts:\n",
      "    yrmo = dt.strftime('%Y/%m')\n",
      "    date4 = dt.strftime('%Y%m%d%H')\n",
      "    npbin_path = os.path.join(npbin_root, yrmo)\n",
      "    if not os.path.isdir(npbin_path):\n",
      "        os.makedirs(npbin_path)\n",
      "    nout_file = os.path.join(npbin_path, '%s.npz' % (date4))\n",
      "    nout_files.append(nout_file)"
     ],
     "language": "python",
     "metadata": {},
     "outputs": []
    },
    {
     "cell_type": "code",
     "collapsed": false,
     "input": [
      "sfiles = []\n",
      "ffiles = []\n",
      "nfiles = []\n",
      "skip = 25\n",
      "for i in range(0, len(stg4_files), skip):\n",
      "    sfiles.append(stg4_files[i:i+skip])\n",
      "    ffiles.append(nssl_files[i:i+skip])\n",
      "    nfiles.append(nout_files[i:i+skip])\n",
      "files = zip(sfiles, ffiles, nfiles)"
     ],
     "language": "python",
     "metadata": {},
     "outputs": []
    },
    {
     "cell_type": "code",
     "collapsed": false,
     "input": [
      "cmds = []\n",
      "for i in range(len(sfiles)):\n",
      "    kwargs = {'stg4_files': sfiles[i], 'fcst_files': ffiles[i], \n",
      "              'nout_files': nfiles[i], 'dx': dx, 'fcst_thresh': thresh, \n",
      "              'stg4_thresh': thresh, 'mask': disser.mask, \n",
      "              'sigx': parms['sigx'], 'sigy': parms['sigy'], 'xrot': parms['xrot'],\n",
      "              'h': parms['h'], 'k': parms['k'], 'factor': factor}\n",
      "    cmds.append(kwargs)\n"
     ],
     "language": "python",
     "metadata": {},
     "outputs": []
    },
    {
     "cell_type": "code",
     "collapsed": false,
     "input": [
      "jobs = view.map(disser.calibration.create_forecasts, cmds)"
     ],
     "language": "python",
     "metadata": {},
     "outputs": []
    },
    {
     "cell_type": "code",
     "collapsed": false,
     "input": [
      "num_of_jobs = len(cmds)\n",
      "while jobs.progress < num_of_jobs:\n",
      "    finished = 0\n",
      "    view.spin()\n",
      "    for job in jobs.metadata:\n",
      "        if job['outputs_ready']: finished += 1\n",
      "    print('Completed {0} of {1} jobs. ({2} %)'.format(finished, num_of_jobs, 100*finished/num_of_jobs))\n",
      "    time.sleep(10)\n",
      "print('Completed {0} of {1} jobs. ({2} %)'.format(num_of_jobs, num_of_jobs, 100))\n"
     ],
     "language": "python",
     "metadata": {},
     "outputs": []
    },
    {
     "cell_type": "code",
     "collapsed": false,
     "input": [
      " "
     ],
     "language": "python",
     "metadata": {},
     "outputs": []
    }
   ],
   "metadata": {}
  }
 ]
}