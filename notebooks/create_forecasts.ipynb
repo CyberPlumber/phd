{
 "metadata": {
  "name": "create_forecasts"
 },
 "nbformat": 3,
 "nbformat_minor": 0,
 "worksheets": [
  {
   "cells": [
    {
     "cell_type": "code",
     "collapsed": false,
     "input": [
      "from IPython.parallel import Client\n",
      "import os\n",
      "import sys\n",
      "import time\n",
      "import shutil\n",
      "import datetime\n",
      "from glob import glob\n",
      "from random import choice\n",
      "\n",
      "import numpy as np\n",
      "from scipy import ndimage\n",
      "\n",
      "import hwt\n",
      "import metpy as mp\n",
      "import disser; reload(disser)"
     ],
     "language": "python",
     "metadata": {},
     "outputs": []
    },
    {
     "cell_type": "code",
     "collapsed": false,
     "input": [
      "print('Platform: {0.platform}\\nPython Version: {0.version}'.format(sys))\n",
      "print('Numpy Version: {0}'.format(np.__version__))\n",
      "print('HWT Version: {0}'.format(hwt.__version__))\n",
      "print('Disser Version: {0}'.format(disser.__version__))"
     ],
     "language": "python",
     "metadata": {},
     "outputs": []
    },
    {
     "cell_type": "markdown",
     "metadata": {},
     "source": [
      "-----\n",
      "## Create NSSL-WRF Forecasts\n"
     ]
    },
    {
     "cell_type": "code",
     "collapsed": false,
     "input": [
      "rc = Client()\n",
      "%px import disser\n",
      "view = rc.load_balanced_view()    # Load-Balanced View\n"
     ],
     "language": "python",
     "metadata": {},
     "outputs": []
    },
    {
     "cell_type": "code",
     "collapsed": false,
     "input": [
      "dx = 4.7\n",
      "radius = 400\n",
      "factor = 5.\n",
      "thresh = 25.4 * 2\n",
      "if thresh == 6.35:\n",
      "    parms = {300: {'sigx': 31.6336643167, 'sigy': 28.7108216863, 'xrot': 52.7272781076, 'h': 2, 'k': 2},\n",
      "             400: {'sigx': 41.8534022777, 'sigy': 37.3268364288, 'xrot': 62.443625445, 'h': 2, 'k': 2},\n",
      "             500: {'sigx': 50.1538536213, 'sigy': 44.4925945179, 'xrot': 63.6702005615, 'h': 2, 'k': 3}}\n",
      "elif thresh == 12.7:\n",
      "    parms = {300: {'sigx': 31.6326276682, 'sigy': 28.1314213435, 'xrot': 60.8575667575, 'h': 1, 'k': 2},\n",
      "             400: {'sigx': 40.9368869275, 'sigy': 35.6815258738, 'xrot': 63.9187717957, 'h': 2, 'k': 3},\n",
      "             500: {'sigx': 50.8637731829, 'sigy': 42.2477996776, 'xrot': 61.2903721585, 'h': 3, 'k': 3}}\n",
      "elif thresh == 25.4:\n",
      "    parms = {300: {'sigx': 31.2648101029, 'sigy': 26.4293709579, 'xrot': 51.420339506, 'h': 1, 'k': 3},\n",
      "             400: {'sigx': 40.6180306443, 'sigy': 32.9571780737, 'xrot': 57.6005618227, 'h': 1, 'k': 4},\n",
      "             500: {'sigx': 49.6364371906, 'sigy': 37.8579463657, 'xrot': 55.1934294276, 'h': 5, 'k': 2}}\n",
      "elif thresh == 38.1:\n",
      "    parms = {300: {'sigx': 30.6363114046, 'sigy': 24.9883257446, 'xrot': 49.6711970058, 'h': 1, 'k': 4},\n",
      "             400: {'sigx': 40.3945726456, 'sigy': 30.1708220103, 'xrot': 53.212697505, 'h': 2, 'k': 6},\n",
      "             500: {'sigx': 47.6726390519, 'sigy': 33.9016147968, 'xrot': 55.2660835024, 'h': 7, 'k': 2}}\n",
      "elif thresh == 50.8:\n",
      "    parms = {300: {'sigx': 29.071386321, 'sigy': 22.996836682, 'xrot': 54.7903558305, 'h': 1, 'k': 5},\n",
      "             400: {'sigx': 36.8428526465, 'sigy': 24.6293363465, 'xrot': 50.295763874, 'h': 2, 'k': 6},\n",
      "             500: {'sigx': 43.340103834, 'sigy': 22.5085628075, 'xrot': 48.7490186112, 'h': 3, 'k': 7}}\n",
      "\n",
      "stg4_root = r'/raid/efp/se2011/pmarsh/stg4/06h'\n",
      "nssl_root = r'/raid/efp/se2011/pmarsh/nssl/06h'\n",
      "npbin_root = r'/raid/efp/se2012/pmarsh/phd/deterministic/%03ikm/forecasts/%05.2f/06h' % (radius, thresh)\n",
      "\n",
      "bdt = datetime.datetime(2010, 4, 1, 0)\n",
      "edt = datetime.datetime(2011, 3, 31, 18)\n",
      "dts = [bdt + datetime.timedelta(hours=i*6) for i in range(4+(edt-bdt).days*4)]\n"
     ],
     "language": "python",
     "metadata": {},
     "outputs": []
    },
    {
     "cell_type": "code",
     "collapsed": false,
     "input": [
      "stg4_files = []\n",
      "nssl_files = []\n",
      "valid_dts = []\n",
      "for dt in dts:\n",
      "    yrmo = os.path.join('%04i' % (dt.year), '%02i' % (dt.month))\n",
      "    date4 = dt.strftime('%Y%m%d%H')\n",
      "    stg4_path = os.path.join(stg4_root, yrmo)\n",
      "    stg4_file = os.path.join(stg4_path, 'ST4.%s.06h' % (date4))\n",
      "    nssl_path = os.path.join(nssl_root, yrmo)\n",
      "    nssl_file = os.path.join(nssl_path, 'NSSL.%s.06h' % (date4))\n",
      "    if os.path.isfile(stg4_file) and os.path.isfile(nssl_file):\n",
      "        stg4_files.append(stg4_file)\n",
      "        nssl_files.append(nssl_file)\n",
      "        valid_dts.append(dt)"
     ],
     "language": "python",
     "metadata": {},
     "outputs": []
    },
    {
     "cell_type": "code",
     "collapsed": false,
     "input": [
      "nout_files = []\n",
      "for dt in valid_dts:\n",
      "    yrmo = dt.strftime('%Y/%m')\n",
      "    date4 = dt.strftime('%Y%m%d%H')\n",
      "    npbin_path = os.path.join(npbin_root, yrmo)\n",
      "    if not os.path.isdir(npbin_path):\n",
      "        os.makedirs(npbin_path)\n",
      "    nout_file = os.path.join(npbin_path, '%s.npz' % (date4))\n",
      "    nout_files.append(nout_file)"
     ],
     "language": "python",
     "metadata": {},
     "outputs": []
    },
    {
     "cell_type": "code",
     "collapsed": false,
     "input": [
      "sfiles = []\n",
      "ffiles = []\n",
      "nfiles = []\n",
      "skip = 25\n",
      "for i in range(0, len(stg4_files), skip):\n",
      "    sfiles.append(stg4_files[i:i+skip])\n",
      "    ffiles.append(nssl_files[i:i+skip])\n",
      "    nfiles.append(nout_files[i:i+skip])\n",
      "files = zip(sfiles, ffiles, nfiles)"
     ],
     "language": "python",
     "metadata": {},
     "outputs": []
    },
    {
     "cell_type": "code",
     "collapsed": false,
     "input": [
      "cmds = []\n",
      "for i in range(len(sfiles)):\n",
      "    kwargs = {'stg4_files': sfiles[i], 'fcst_files': ffiles[i], \n",
      "              'nout_files': nfiles[i], 'dx': dx, 'fcst_thresh': thresh, \n",
      "              'stg4_thresh': thresh, 'mask': disser.mask, \n",
      "              'sigx': parms[radius]['sigx'], 'sigy': parms[radius]['sigy'], \n",
      "              'xrot': parms[radius]['xrot'], 'h': parms[radius]['h'], \n",
      "              'k': parms[radius]['k'], 'factor': factor}\n",
      "    cmds.append(kwargs)\n"
     ],
     "language": "python",
     "metadata": {},
     "outputs": []
    },
    {
     "cell_type": "code",
     "collapsed": false,
     "input": [
      "jobs = view.map(disser.calibration.create_forecasts, cmds)"
     ],
     "language": "python",
     "metadata": {},
     "outputs": []
    },
    {
     "cell_type": "code",
     "collapsed": false,
     "input": [
      "num_of_jobs = len(cmds)\n",
      "while jobs.progress < num_of_jobs:\n",
      "    finished = 0\n",
      "    view.spin()\n",
      "    for job in jobs.metadata:\n",
      "        if job['outputs_ready']: finished += 1\n",
      "    print('Completed {0} of {1} jobs. ({2} %)'.format(finished, num_of_jobs, 100*finished/num_of_jobs))\n",
      "    time.sleep(10)\n",
      "print('Completed {0} of {1} jobs. ({2} %)'.format(num_of_jobs, num_of_jobs, 100))\n"
     ],
     "language": "python",
     "metadata": {},
     "outputs": []
    },
    {
     "cell_type": "markdown",
     "metadata": {},
     "source": [
      "-----\n",
      "## Create SSEF Samples\n",
      " "
     ]
    },
    {
     "cell_type": "code",
     "collapsed": false,
     "input": [
      "rc = Client()\n",
      "%px import disser\n",
      "%px import os\n",
      "%px import numpy as np\n",
      "%px import metpy as mp\n",
      "%px from scipy import ndimage\n",
      "view = rc.load_balanced_view()    # Load-Balanced View\n"
     ],
     "language": "python",
     "metadata": {},
     "outputs": []
    },
    {
     "cell_type": "code",
     "collapsed": false,
     "input": [
      "thresh = 25.4 * 0.5\n",
      "radius = 300\n",
      "dx = 4.7\n",
      "\n",
      "stg4_root = r'/raid/efp/se2011/pmarsh/stg4/06h'\n",
      "ssef_root = r'/raid/efp/se2011/pmarsh/ssef_precip'\n",
      "npbin_root = r'/raid/efp/se2012/pmarsh/phd/ssef/%03ikm/2dhists/%05.2f/06h' % (radius, thresh)\n",
      "npbin_fcst_root = r'/raid/efp/se2012/pmarsh/phd/ssef/%03ikm/forecasts/%05.2f/06h/simulations' % (radius, thresh)\n"
     ],
     "language": "python",
     "metadata": {},
     "outputs": []
    },
    {
     "cell_type": "markdown",
     "metadata": {},
     "source": [
      "Get a list of valid dates and times for each member of the ensemble. To be a valid date for a given member, both a stage4 and forecast file must be present"
     ]
    },
    {
     "cell_type": "code",
     "collapsed": false,
     "input": [
      "ens_mem_dates = {}\n",
      "for member in disser.misc.se2010_members:\n",
      "    npbin_path = os.path.join(npbin_root, member)\n",
      "    ffiles = glob(os.path.join(npbin_path, '2010/*.npz')) + glob(os.path.join(npbin_path, '2011/*.npz'))\n",
      "    ffiles.sort()\n",
      "    dts = []\n",
      "    for f in ffiles:\n",
      "        dts.append(datetime.datetime.strptime(os.path.basename(f).split('.')[0], '%Y%m%d%H'))\n",
      "    ens_mem_dates[member] = dts\n"
     ],
     "language": "python",
     "metadata": {},
     "outputs": []
    },
    {
     "cell_type": "markdown",
     "metadata": {},
     "source": [
      "Now, get a list of the dates that are in common amongst all ensemble members"
     ]
    },
    {
     "cell_type": "code",
     "collapsed": false,
     "input": [
      "printf = False\n",
      "valid_dts = []\n",
      "non_valid_dts = []\n",
      "for member in ens_mem_dates:\n",
      "    dts = ens_mem_dates[member]\n",
      "    if printf: print(member, len(dts))\n",
      "    for dt in dts:\n",
      "        if dt not in valid_dts:\n",
      "            mems = 0\n",
      "            for member in ens_mem_dates:\n",
      "                if dt in ens_mem_dates[member]:\n",
      "                    mems += 1\n",
      "            if mems == 15:\n",
      "                valid_dts.append(dt)\n",
      "            else:\n",
      "                non_valid_dts.append(dt)\n",
      "non_valid_dts = list(set(non_valid_dts))\n",
      "non_valid_dts.sort()\n",
      "if printf: print('Common:', len(valid_dts))  "
     ],
     "language": "python",
     "metadata": {},
     "outputs": []
    },
    {
     "cell_type": "markdown",
     "metadata": {},
     "source": [
      "Now, here's where we begin to set up our simulation parameters. For each simulation:\n",
      "\n",
      "+ Randomly select dates for the training period\n",
      "+ Then create a list of unused dates from which to verify the parameters"
     ]
    },
    {
     "cell_type": "code",
     "collapsed": false,
     "input": [
      "simulation_parms = {}\n",
      "number_of_simulations = 100\n",
      "for sim in range(1, number_of_simulations+1):\n",
      "    unique_dates = len(valid_dts)\n",
      "    len_of_training = int(unique_dates / 2)\n",
      "    poss_inds = range(unique_dates)\n",
      "    chosen_dates = []\n",
      "    for i in range(len_of_training):\n",
      "        ind = poss_inds.pop(poss_inds.index(choice(poss_inds)))\n",
      "        chosen_dates.append(valid_dts[ind])\n",
      "    fcst_dates = [dt for dt in valid_dts if dt not in chosen_dates]\n",
      "    chosen_dates.sort()\n",
      "    fcst_dates.sort()\n",
      "    simulation_parms[sim] = {'training_dates': chosen_dates, \n",
      "                              'forecast_dates': fcst_dates}\n",
      "    for member in disser.misc.se2010_members:\n",
      "        sfiles = []\n",
      "        ffiles = []\n",
      "        nfiles = []\n",
      "        for dt in fcst_dates:\n",
      "            yrmo = dt.strftime('%Y/%m')\n",
      "            year = dt.strftime('%Y')\n",
      "            date4 = dt.strftime('%Y%m%d')\n",
      "            fdate4 = (dt - datetime.timedelta(days=1)).strftime('%Y%m%d')\n",
      "            # Set Stage4 File\n",
      "            stg4_path = os.path.join(stg4_root, yrmo)\n",
      "            sfiles.append(os.path.join(stg4_path, 'ST4.%s%02i.06h' % (date4, dt.hour)))\n",
      "            # Set SSEF File\n",
      "            if dt.hour <= 12:\n",
      "                date2 = (dt - datetime.timedelta(days=1)).strftime('%y%m%d')\n",
      "                ssef_path = os.path.join(ssef_root, os.path.join(date2, member))\n",
      "                ffiles.append(os.path.join(ssef_path, '%s.%sf%02i.06h' % (member, fdate4, dt.hour+24)))\n",
      "            else:\n",
      "                date2 = dt.strftime('%y%m%d')\n",
      "                ssef_path = os.path.join(ssef_root, os.path.join(date2, member))\n",
      "                ffiles.append(os.path.join(ssef_path, '%s.%sf%02i.06h' % (member, date4, dt.hour)))\n",
      "\n",
      "            # Set OUT File\n",
      "            npbin_fcst_path = os.path.join(npbin_fcst_root, os.path.join('%03i' % (sim), member))\n",
      "            nfiles.append(os.path.join(npbin_fcst_path, '%s%02i.npz' % (date4, dt.hour)))\n",
      "            if os.path.isdir(npbin_fcst_path):\n",
      "                shutil.rmtree(npbin_fcst_path)\n",
      "            os.makedirs(npbin_fcst_path)\n",
      "        simulation_parms[sim][member] = {'stg4_files': sfiles, 'fcst_files': ffiles, 'nout_files': nfiles}\n"
     ],
     "language": "python",
     "metadata": {},
     "outputs": []
    },
    {
     "cell_type": "markdown",
     "metadata": {},
     "source": [
      "This is the function that reads in the histogram files and generates the histograms and the fitting parameters"
     ]
    },
    {
     "cell_type": "code",
     "collapsed": false,
     "input": [
      "def get_simulation_params(kwargs):\n",
      "    sim_number = kwargs.get('sim_number')\n",
      "    dts = kwargs.get('dts')\n",
      "    npbin_root = kwargs.get('npbin_root')\n",
      "    parms = {}\n",
      "    for member in disser.misc.se2010_members:\n",
      "        init = True\n",
      "        for dt in dts:\n",
      "            date4 = dt.strftime('%Y%m%d%H')\n",
      "            year = date4[:4]\n",
      "            npbin_path = os.path.join(npbin_root, member)\n",
      "            npbin_path = os.path.join(npbin_path, year)\n",
      "            npbin_file = os.path.join(npbin_path, '%s.npz' % (date4))\n",
      "            f = np.load(npbin_file)\n",
      "            if init:\n",
      "                hist = f['hist2d']\n",
      "                init = False\n",
      "            else:\n",
      "                hist += f['hist2d']\n",
      "            f.close()\n",
      "        hist = np.ma.asarray(hist)\n",
      "        hist[hist < 0] = np.ma.masked\n",
      "        sigx, sigy, xrot = mp.kde.fit_gauss2d_alt(hist)\n",
      "        nx = hist.shape[0]\n",
      "        hnx = np.floor(nx / 2)\n",
      "        y, x = ndimage.center_of_mass(hist)\n",
      "        x -= hnx\n",
      "        y -= hnx\n",
      "        parms[member] = {'hist': hist, 'sigx': sigx, 'sigy': sigy, 'xrot': xrot,\n",
      "                         'h': x, 'k': y, 'ih': round(x), 'ik': round(y),\n",
      "                         'simulation': sim_number}\n",
      "    return sim_number, parms\n"
     ],
     "language": "python",
     "metadata": {},
     "outputs": []
    },
    {
     "cell_type": "code",
     "collapsed": false,
     "input": [
      "cmds = []\n",
      "for i in range(1, len(simulation_parms)+1):\n",
      "    kwargs = {'sim_number': i, 'npbin_root': npbin_root, \n",
      "              'dts': simulation_parms[i]['training_dates']}\n",
      "    cmds.append(kwargs)\n"
     ],
     "language": "python",
     "metadata": {},
     "outputs": []
    },
    {
     "cell_type": "code",
     "collapsed": false,
     "input": [
      "jobs = view.map(get_simulation_params, cmds)"
     ],
     "language": "python",
     "metadata": {},
     "outputs": []
    },
    {
     "cell_type": "code",
     "collapsed": false,
     "input": [
      "num_of_jobs = len(cmds)\n",
      "while jobs.progress < num_of_jobs:\n",
      "    finished = 0\n",
      "    view.spin()\n",
      "    for job in jobs.metadata:\n",
      "        if job['outputs_ready']: finished += 1\n",
      "    print('Completed {0} of {1} jobs. ({2} %)'.format(finished, num_of_jobs, 100*finished/num_of_jobs))\n",
      "    time.sleep(5)\n",
      "print('Completed {0} of {1} jobs. ({2} %)'.format(num_of_jobs, num_of_jobs, 100))\n"
     ],
     "language": "python",
     "metadata": {},
     "outputs": []
    },
    {
     "cell_type": "code",
     "collapsed": false,
     "input": [
      "output = jobs.r\n",
      "output.sort()"
     ],
     "language": "python",
     "metadata": {},
     "outputs": []
    },
    {
     "cell_type": "markdown",
     "metadata": {},
     "source": [
      "This part takes the parameters from the fitting and inserts them into the simulation parameter dictionary"
     ]
    },
    {
     "cell_type": "code",
     "collapsed": false,
     "input": [
      "for sim_number, parameters in output:\n",
      "    for member in parameters:\n",
      "        for key in parameters[member]:\n",
      "            simulation_parms[sim_number][member][key] = parameters[member][key]\n",
      "    "
     ],
     "language": "python",
     "metadata": {},
     "outputs": []
    },
    {
     "cell_type": "markdown",
     "metadata": {},
     "source": [
      "Dump this pickle file out for saving. For safety, this code block is set up to prevent automatic running. **DO NOT UNDO THIS!!!**"
     ]
    },
    {
     "cell_type": "code",
     "collapsed": false,
     "input": [
      "run = False\n",
      "if run:\n",
      "    import cPickle as pickle\n",
      "    pickle_file = os.path.join(npbin_fcst_root, r'simulation_parameters.pkl')\n",
      "    pickle.dump(simulation_parms, open(pickle_file, \"wb\"), protocol=2)\n",
      "    print('This was run!')\n",
      "else:\n",
      "    print('This was skipped!')"
     ],
     "language": "python",
     "metadata": {},
     "outputs": []
    },
    {
     "cell_type": "markdown",
     "metadata": {},
     "source": [
      "-----\n",
      "## Create SSEF Forecasts\n",
      " "
     ]
    },
    {
     "cell_type": "code",
     "collapsed": false,
     "input": [
      "rc = Client()\n",
      "%px import disser\n",
      "view = rc.load_balanced_view()    # Load-Balanced View\n"
     ],
     "language": "python",
     "metadata": {},
     "outputs": []
    },
    {
     "cell_type": "code",
     "collapsed": false,
     "input": [
      "thresh = 25.4 * 0.5\n",
      "radius = 300\n",
      "dx = 4.7\n",
      "factor = 5.\n",
      "npbin_fcst_root = r'/raid/efp/se2012/pmarsh/phd/ssef/%03ikm/forecasts/%05.2f/06h/simulations' % (radius, thresh)\n"
     ],
     "language": "python",
     "metadata": {},
     "outputs": []
    },
    {
     "cell_type": "code",
     "collapsed": false,
     "input": [
      "import cPickle as pickle\n",
      "pickle_file = os.path.join(npbin_fcst_root, r'simulation_parameters.pkl')\n",
      "simulation_parms = pickle.load(open(pickle_file, 'rb'))"
     ],
     "language": "python",
     "metadata": {},
     "outputs": []
    },
    {
     "cell_type": "code",
     "collapsed": false,
     "input": [
      "cmds = []\n",
      "for i in range(1, len(simulation_parms)+1):\n",
      "    for member in disser.misc.se2010_members:\n",
      "        kwargs = {'stg4_files': simulation_parms[i][member]['stg4_files'], \n",
      "                  'fcst_files': simulation_parms[i][member]['fcst_files'], \n",
      "                  'nout_files': simulation_parms[i][member]['nout_files'], \n",
      "                  'sigx': simulation_parms[i][member]['sigx'], \n",
      "                  'sigy': simulation_parms[i][member]['sigy'], \n",
      "                  'xrot': simulation_parms[i][member]['xrot'], \n",
      "                  'h': int(simulation_parms[i][member]['ih']), \n",
      "                  'k': int(simulation_parms[i][member]['ik']),\n",
      "                  'dx': dx, 'fcst_thresh': thresh, 'factor': factor,\n",
      "                  'stg4_thresh': thresh, 'mask': disser.mask}\n",
      "        cmds.append(kwargs)\n",
      "    "
     ],
     "language": "python",
     "metadata": {},
     "outputs": []
    },
    {
     "cell_type": "code",
     "collapsed": false,
     "input": [
      "jobs = view.map(disser.calibration.create_forecasts, cmds)"
     ],
     "language": "python",
     "metadata": {},
     "outputs": []
    },
    {
     "cell_type": "code",
     "collapsed": false,
     "input": [
      "num_of_jobs = len(cmds)\n",
      "while jobs.progress < num_of_jobs:\n",
      "    finished = 0\n",
      "    view.spin()\n",
      "    for job in jobs.metadata:\n",
      "        if job['outputs_ready']: finished += 1\n",
      "    print('Completed {0} of {1} jobs. ({2} %)'.format(finished, num_of_jobs, 100*finished/num_of_jobs))\n",
      "    time.sleep(10)\n",
      "print('Completed {0} of {1} jobs. ({2} %)'.format(num_of_jobs, num_of_jobs, 100))\n"
     ],
     "language": "python",
     "metadata": {},
     "outputs": []
    }
   ],
   "metadata": {}
  }
 ]
}