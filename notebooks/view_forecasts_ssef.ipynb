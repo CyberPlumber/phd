{
 "metadata": {
  "name": "view_forecasts_ssef"
 },
 "nbformat": 3,
 "nbformat_minor": 0,
 "worksheets": [
  {
   "cells": [
    {
     "cell_type": "code",
     "collapsed": false,
     "input": [
      "import os\n",
      "import sys\n",
      "import datetime\n",
      "from glob import glob\n",
      "import cPickle as pickle\n",
      "\n",
      "import pygrib\n",
      "import numpy as np\n",
      "import matplotlib.pyplot as plt\n",
      "import matplotlib.colors as mcolors\n",
      "from mpl_toolkits.basemap import Basemap\n",
      "from mpl_toolkits.axes_grid1 import ImageGrid\n",
      "from matplotlib.offsetbox import AnchoredText\n",
      "from matplotlib.patheffects import withStroke\n",
      "\n",
      "import hwt\n",
      "import stations\n",
      "import metpy as mp\n",
      "import disser; reload(disser)\n"
     ],
     "language": "python",
     "metadata": {},
     "outputs": []
    },
    {
     "cell_type": "code",
     "collapsed": false,
     "input": [
      "print('Platform: {0.platform}\\nPython Version: {0.version}'.format(sys))\n",
      "print('Numpy Version: {0}'.format(np.__version__))\n",
      "print('HWT Version: {0}'.format(hwt.__version__))\n",
      "print('Disser Version: {0}'.format(disser.__version__))"
     ],
     "language": "python",
     "metadata": {},
     "outputs": []
    },
    {
     "cell_type": "code",
     "collapsed": false,
     "input": [
      "def draw_map_background(m, ax=None):\n",
      "    if not ax: ax = plt.gca()\n",
      "    ax.set_axis_bgcolor('#729FCF')\n",
      "    m.drawcoastlines(ax=ax)\n",
      "    m.drawcountries(ax=ax)\n",
      "    m.drawstates(linewidth=0.25, ax=ax)\n",
      "    m.fillcontinents(color='#B2B2B2', ax=ax, zorder=0)\n"
     ],
     "language": "python",
     "metadata": {},
     "outputs": []
    },
    {
     "cell_type": "code",
     "collapsed": false,
     "input": [
      "def add_inner_title(ax, title, loc, size=None, **kwargs):\n",
      "    if size is None:\n",
      "        size = plt.rcParams['legend.fontsize']\n",
      "    at = AnchoredText(title, loc=loc, prop=dict(size=size),\n",
      "                      frameon=True, **kwargs)\n",
      "    at.txt._text.set_path_effects([withStroke(foreground=\"w\", linewidth=3)])\n",
      "    at.patch.set_boxstyle(\"round,pad=0.,rounding_size=0.2\")\n",
      "    ax.add_artist(at)\n",
      "    return at\n"
     ],
     "language": "python",
     "metadata": {},
     "outputs": []
    },
    {
     "cell_type": "code",
     "collapsed": false,
     "input": [
      "dx = 4.7\n",
      "factor = 5.\n",
      "radius = 400\n",
      "thresh = 25.4 * 1\n",
      "stg4_root = r'/raid/efp/se2011/pmarsh/stg4/06h'\n",
      "\n",
      "npbin_simulation_root = r'/raid/efp/se2012/pmarsh/phd/ssef/%03ikm/forecasts/%05.2f/06h/simulations' % (radius, thresh)\n",
      "pickle_file = os.path.join(npbin_simulation_root, r'simulation_config_%03ikm_%05.2f.pkl' % (radius, thresh))\n",
      "simulation_config = pickle.load(open(pickle_file, 'rb'))"
     ],
     "language": "python",
     "metadata": {},
     "outputs": []
    },
    {
     "cell_type": "code",
     "collapsed": false,
     "input": [
      "dt = datetime.datetime(2010, 5, 20, 06)\n",
      "stn = 'ICT'\n"
     ],
     "language": "python",
     "metadata": {},
     "outputs": []
    },
    {
     "cell_type": "code",
     "collapsed": false,
     "input": [
      "def get_ftimes(dt):\n",
      "    if dt.hour == 18:\n",
      "        dt2 = dt\n",
      "        fhr = dt.hour\n",
      "    else:\n",
      "        dt2 = dt - datetime.timedelta(days=1)\n",
      "        fhr = dt.hour + 24\n",
      "    return dt, dt2, fhr\n",
      "\n",
      "def get_ffile(lfind, files):\n",
      "    for f in files:\n",
      "        if lfind in f:\n",
      "            return f\n",
      "\n",
      "dt, dt2, fhr = get_ftimes(dt)\n",
      "date4 = dt2.strftime('%Y%m%d')\n",
      "find = 's4cn_arw' + '.' + date4 + 'f' + str(fhr) + '.06h'\n",
      "find2 = dt.strftime('%Y%m%d%H.npz')\n",
      "fcst_files = []\n",
      "nout_files = []\n",
      "sim = 2\n",
      "sims = []\n",
      "mems = disser.misc.se2010_members + ['ensemble']\n",
      "for mem in mems:\n",
      "    nout_file = get_ffile(find2, simulation_config['simulations'][sim][mem]['nout_files'])\n",
      "    if nout_file:\n",
      "        nout_files.append(nout_file)\n",
      "        sims.append(sim)\n",
      "    else:\n",
      "        print(sim)\n",
      "        break\n",
      "print(len(nout_files))"
     ],
     "language": "python",
     "metadata": {},
     "outputs": []
    },
    {
     "cell_type": "code",
     "collapsed": false,
     "input": [
      "yrmo = os.path.join('%04i' % (dt.year), '%02i' % (dt.month))\n",
      "date4 = dt.strftime('%Y%m%d%H')\n",
      "stg4_path = os.path.join(stg4_root, yrmo)\n",
      "stg4_file = os.path.join(stg4_path, 'ST4.%s.06h' % (date4))\n",
      "grb = pygrib.open(stg4_file)[1]\n",
      "lats, lons = grb.latlons()\n",
      "stg4 = grb.values\n",
      "del(grb)\n"
     ],
     "language": "python",
     "metadata": {},
     "outputs": []
    },
    {
     "cell_type": "code",
     "collapsed": false,
     "input": [
      "fcsts = []\n",
      "for i in range(len(nout_files)):\n",
      "    f = np.load(nout_files[i])\n",
      "    fcst = f['fcst_aniso']\n",
      "    f.close()\n",
      "    fcsts.append(fcst)\n",
      "print(len(fcsts))"
     ],
     "language": "python",
     "metadata": {},
     "outputs": []
    },
    {
     "cell_type": "code",
     "collapsed": false,
     "input": [
      "ilon, ilat = stations.sfc.get_stn(stn)\n",
      "hght = 350 * 4\n",
      "wid = 350 * 4\n",
      "km = 1000.\n",
      "m = Basemap(width=wid*km,height=hght*km, projection='lcc',\n",
      "            lat_0=ilat, lon_0=ilon, lat_1=45.,lat_2=55, area_thresh=1000,\n",
      "            rsphere=(6378137.00, 6356752.3142), resolution='l')\n",
      "x, y = m(lons, lats)"
     ],
     "language": "python",
     "metadata": {},
     "outputs": []
    },
    {
     "cell_type": "code",
     "collapsed": false,
     "input": [
      "nrows = 4\n",
      "ncols = 4\n",
      "tsize = 18\n",
      "cmap2 = plt.cm.RdYlBu_r\n",
      "vals2 = [0.01] + range(5, 101, 5)\n",
      "vals2 = np.asanyarray(vals2)\n",
      "\n",
      "factor = 3\n",
      "figsize = np.asarray([8.5, 8.5]) * factor\n",
      "fig = plt.figure(figsize=figsize)\n",
      "grid = ImageGrid(fig, 111, nrows_ncols=(nrows, ncols), axes_pad=0.33, \n",
      "                 cbar_pad=0, cbar_mode='single', cbar_size='5%', \n",
      "                 cbar_location='bottom')\n",
      "\n",
      "for i, ax in enumerate(grid):\n",
      "    draw_map_background(m, ax)\n",
      "    try:\n",
      "        cbar = m.contourf(x, y, fcsts[i], levels=vals2, ax=ax, cmap=cmap2)\n",
      "    except: \n",
      "        continue\n",
      "    m.contour(x, y, fcsts[i], levels=vals2, ax=ax, colors='black', linewidths=0.25)\n",
      "    m.contourf(x, y, stg4, levels=(thresh, 1000), colors='white', alpha=0.5, ax=ax)\n",
      "    m.contour(x, y, stg4, levels=(thresh, 1000), colors='black', linewidths=2, ax=ax)\n",
      "    title = '%s' % (mems[i].upper())\n",
      "    ax.set_title(title, size=tsize)\n",
      "\n",
      "cax = grid.cbar_axes[0]\n",
      "cax.colorbar(cbar)\n",
      "delta = (1./(vals2.shape[0]-1))*(vals2[-1]-vals2[0])\n",
      "xloc = np.arange(vals2[0], vals2[-1]+1e-11, delta)\n",
      "xlabs = ['$\\geq$0.01%'] + ['%i%%' % i for i in vals2[1:-2]] + ['%i%%+' % vals2[-2]]\n",
      "cax.set_xticks(xloc)\n",
      "cax.set_xticklabels(xlabs, size=14);\n",
      "\n",
      "ax.text(0, 1.25, 'Fitting Radius: %s km' % (radius), size=26, ha='left', transform=grid[0].transAxes)\n",
      "ax.text(1, 1.25, 'Stage IV Threshold: %s mm' % (thresh), size=26, ha='right', transform=grid[ncols-1].transAxes)\n",
      "fig.suptitle('Probability Forecasts from SSEF\\nSimulation #%i' % (sim), size=36, y=1.02)"
     ],
     "language": "python",
     "metadata": {},
     "outputs": []
    },
    {
     "cell_type": "code",
     "collapsed": false,
     "input": [],
     "language": "python",
     "metadata": {},
     "outputs": []
    }
   ],
   "metadata": {}
  }
 ]
}