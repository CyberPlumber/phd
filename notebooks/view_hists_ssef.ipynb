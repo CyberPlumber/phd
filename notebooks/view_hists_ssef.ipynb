{
 "metadata": {
  "name": "view_hists_ssef"
 },
 "nbformat": 3,
 "nbformat_minor": 0,
 "worksheets": [
  {
   "cells": [
    {
     "cell_type": "code",
     "collapsed": false,
     "input": [
      "import os, sys\n",
      "import datetime\n",
      "import cPickle as pickle\n",
      "import numpy as np\n",
      "import matplotlib as mpl\n",
      "import matplotlib.pyplot as plt\n",
      "from mpl_toolkits.axes_grid1 import ImageGrid\n",
      "from scipy import ndimage\n",
      "\n",
      "import hwt\n",
      "import metpy as mp\n",
      "import disser; reload(disser)\n"
     ],
     "language": "python",
     "metadata": {},
     "outputs": []
    },
    {
     "cell_type": "code",
     "collapsed": false,
     "input": [
      "print('Platform: {0.platform}\\nPython Version: {0.version}'.format(sys))\n",
      "print('Numpy Version: {0}'.format(np.__version__))\n",
      "print('HWT Version: {0}'.format(hwt.__version__))\n",
      "print('Disser Version: {0}'.format(disser.__version__))"
     ],
     "language": "python",
     "metadata": {},
     "outputs": []
    },
    {
     "cell_type": "markdown",
     "metadata": {},
     "source": [
      "-----\n",
      "# View SSEF Histograms\n",
      "\n"
     ]
    },
    {
     "cell_type": "code",
     "collapsed": false,
     "input": [
      "dx = 4.7\n",
      "radius = 400\n",
      "thresh = 25.4 * 0.5\n",
      "\n",
      "npbin_hist_root = r'/raid/efp/se2012/pmarsh/phd/ssef/%03ikm/2dhists/%05.2f/06h' % (radius, thresh)\n",
      "npbin_fcst_root = r'/raid/efp/se2012/pmarsh/phd/ssef/%03ikm/forecasts/%05.2f/06h/simulations' % (radius, thresh)\n",
      "pickle_file = os.path.join(npbin_fcst_root, r'simulation_config_%03ikm_%05.2f.pkl' % (radius, thresh))\n",
      "simulation_config = pickle.load(open(pickle_file, 'rb'))\n"
     ],
     "language": "python",
     "metadata": {},
     "outputs": []
    },
    {
     "cell_type": "code",
     "collapsed": false,
     "input": [
      "simulation_config['simulations'][1]['training_dates']"
     ],
     "language": "python",
     "metadata": {},
     "outputs": []
    },
    {
     "cell_type": "code",
     "collapsed": false,
     "input": [
      "hists = []\n",
      "for mem in disser.misc.se2010_members:\n",
      "    print(mem)\n",
      "    thist = []\n",
      "    for sim in range(1, simulation_config['number_of_simulations']+1):\n",
      "        initial = True\n",
      "        for dt in simulation_config['simulations'][sim]['training_dates']:\n",
      "            npbin_hist_path = os.path.join(npbin_hist_root, mem)\n",
      "            npbin_hist_path = os.path.join(npbin_hist_path, dt.strftime('%Y'))\n",
      "            nout_file = os.path.join(npbin_hist_path, dt.strftime('%Y%m%d%H.npz'))\n",
      "            f = np.load(nout_file)\n",
      "            if initial:\n",
      "                hist = f['hist2d']\n",
      "                initial = False\n",
      "            else:\n",
      "                hist += f['hist2d']\n",
      "            f.close()\n",
      "        hist = np.ma.asarray(hist)\n",
      "        hist[hist < 0] = np.ma.masked\n",
      "        thist.append(hist)\n",
      "    hists.append(np.ma.asanyarray(thist))\n",
      "hists = np.ma.asanyarray(hists)"
     ],
     "language": "python",
     "metadata": {},
     "outputs": []
    },
    {
     "cell_type": "code",
     "collapsed": false,
     "input": [
      "nx, ny = hists[0][0,...].shape\n",
      "hnx, hny = np.floor(nx / 2), np.floor(ny / 2)\n",
      "x = np.arange(-hnx, hnx+1) * dx\n",
      "y = np.arange(-hny, hny+1) * dx\n",
      "xx, yy = np.meshgrid(x, y)"
     ],
     "language": "python",
     "metadata": {},
     "outputs": []
    },
    {
     "cell_type": "code",
     "collapsed": false,
     "input": [
      "sim = 2\n",
      "cmap = plt.cm.Greens\n",
      "cmap2 = plt.cm.Blues\n",
      "vmin = 0; vmax = 100000\n",
      "norm = mpl.colors.Normalize(vmin=vmin, vmax=vmax)\n",
      "\n",
      "fig = plt.figure(figsize=(24, 24), dpi=300)\n",
      "grid = ImageGrid(fig, 111, nrows_ncols=(4, 4), axes_pad=0.5, aspect=True, \n",
      "                 label_mode='L', cbar_location='bottom', cbar_mode='single', \n",
      "                 cbar_pad=0.25, cbar_size='5%')\n",
      "\n",
      "thists = hists[:, sim-1, ...]\n",
      "for hist, mem, ax in zip(thists, disser.misc.se2010_members, grid):\n",
      "    cbar = ax.pcolormesh(xx, yy, hist, cmap=cmap, norm=norm)\n",
      "    ax.plot(0, 0, 'wo', markersize=10, markeredgecolor='k')\n",
      "    y0, x0 = mp.kde.ndimage.center_of_mass(hist)\n",
      "    ax.plot((x0-hnx)*dx, (y0-hny)*dx, 'r*', markersize=20, markeredgecolor='k')\n",
      "    ax.set_title(mem.upper(), size=16)\n",
      "    ax.title.set_y(1.025)\n",
      "    ax.grid()\n",
      "cax = grid.cbar_axes[0]\n",
      "cax.colorbar(cbar)\n",
      "cax.set_ylabel('Number of Observations', size=12)\n",
      "ax = grid[15]\n",
      "ax.pcolormesh(xx, yy, thists.std(axis=0), cmap=cmap2)\n",
      "ax.plot(0, 0, 'wo', markersize=10, markeredgecolor='k')\n",
      "ax.set_title('Standard Deviation of Members', size=16)\n",
      "ax.title.set_y(1.025)\n",
      "ax.grid()\n",
      "\n",
      "fig.suptitle('SSEF Composites\\nSimulation #%i' % (sim), size=36)"
     ],
     "language": "python",
     "metadata": {},
     "outputs": []
    },
    {
     "cell_type": "code",
     "collapsed": false,
     "input": [
      "vmin = 0; vmax = max([hist.std(axis=0).max() for hist in hists])\n",
      "norm = mpl.colors.Normalize(vmin=vmin, vmax=vmax)\n",
      "fig = plt.figure(figsize=(24, 24), dpi=300)\n",
      "grid = ImageGrid(fig, 111, nrows_ncols=(4, 4), axes_pad=0.5, aspect=True, \n",
      "                 label_mode='L', cbar_location='bottom', cbar_mode='single', \n",
      "                 cbar_pad=0.25, cbar_size='5%')\n",
      "\n",
      "thists = hists\n",
      "for hist, mem, ax in zip(thists, disser.misc.se2010_members, grid):\n",
      "    cbar = ax.pcolormesh(xx, yy, hist.std(axis=0), cmap=cmap, norm=norm)\n",
      "    ax.plot(0, 0, 'wo', markersize=10, markeredgecolor='k')\n",
      "    ax.set_title(mem.upper(), size=16)\n",
      "    ax.title.set_y(1.025)\n",
      "    ax.grid()\n",
      "cax = grid.cbar_axes[0]\n",
      "cax.colorbar(cbar)\n",
      "cax.set_ylabel('Number of Observations', size=12)\n",
      "ax = grid[15]\n",
      "ax.pcolormesh(xx, yy, thists.std(axis=0).std(axis=0), cmap=cmap2)\n",
      "ax.plot(0, 0, 'wo', markersize=10, markeredgecolor='k')\n",
      "ax.set_title('Standard Deviation of Members', size=16)\n",
      "ax.title.set_y(1.025)\n",
      "ax.grid()\n",
      "\n",
      "fig.suptitle('SSEF Composites:\\nStandard Deviation of Simulations', size=36)"
     ],
     "language": "python",
     "metadata": {},
     "outputs": []
    },
    {
     "cell_type": "code",
     "collapsed": false,
     "input": [],
     "language": "python",
     "metadata": {},
     "outputs": []
    }
   ],
   "metadata": {}
  }
 ]
}