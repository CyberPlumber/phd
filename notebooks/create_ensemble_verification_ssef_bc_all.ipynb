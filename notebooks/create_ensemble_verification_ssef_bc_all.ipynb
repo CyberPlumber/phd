{
 "metadata": {
  "name": "create_ensemble_verification_ssef_bc_all"
 },
 "nbformat": 3,
 "nbformat_minor": 0,
 "worksheets": [
  {
   "cells": [
    {
     "cell_type": "code",
     "collapsed": false,
     "input": [
      "from IPython.parallel import Client\n",
      "import os\n",
      "import sys\n",
      "import time\n",
      "import shutil\n",
      "import datetime\n",
      "import numpy as np\n",
      "import cPickle as pickle\n",
      "\n",
      "\n",
      "import hwt\n",
      "import disser; reload(disser)"
     ],
     "language": "python",
     "metadata": {},
     "outputs": []
    },
    {
     "cell_type": "code",
     "collapsed": false,
     "input": [
      "print('Platform: {0.platform}\\nPython Version: {0.version}'.format(sys))\n",
      "print('Numpy Version: {0}'.format(np.__version__))\n",
      "print('HWT Version: {0}'.format(hwt.__version__))\n",
      "print('Disser Version: {0}'.format(disser.__version__))"
     ],
     "language": "python",
     "metadata": {},
     "outputs": []
    },
    {
     "cell_type": "markdown",
     "metadata": {},
     "source": [
      "-----\n",
      "# Create Bias Corrected Ensemble Verification"
     ]
    },
    {
     "cell_type": "code",
     "collapsed": false,
     "input": [
      "rc = Client()\n",
      "%px import disser\n",
      "view = rc.load_balanced_view()    # Load-Balanced View"
     ],
     "language": "python",
     "metadata": {},
     "outputs": []
    },
    {
     "cell_type": "code",
     "collapsed": false,
     "input": [
      "radius = 400\n",
      "thresh = 25.4 * 1\n",
      "npbin_simulation_root = r'/raid/efp/se2012/pmarsh/phd/ssef_bc_all/%03ikm/forecasts/%05.2f/06h/simulations' % (radius, thresh)\n",
      "verif_simulation_root = r'/raid/efp/se2012/pmarsh/phd/ssef_bc_all/%03ikm/verification/%05.2f/06h/simulations' % (radius, thresh)\n",
      "\n",
      "pickle_file = os.path.join(npbin_simulation_root, r'simulation_config_%03ikm_%05.2f.pkl' % (radius, thresh))\n",
      "simulation_config = pickle.load(open(pickle_file, 'rb'))"
     ],
     "language": "python",
     "metadata": {},
     "outputs": []
    },
    {
     "cell_type": "code",
     "collapsed": false,
     "input": [
      "members = ['ensemble']\n",
      "\n",
      "for simulation in range(1, simulation_config['number_of_simulations']+1):\n",
      "    for member in simulation_config['simulations'][simulation]:\n",
      "        if member not in members: continue\n",
      "        nfiles = simulation_config['simulations'][simulation][member][member]['nout_files']\n",
      "        vfiles = []\n",
      "        for nfile in nfiles:\n",
      "            vfile = nfile.replace('forecasts', 'verification')\n",
      "            vfile = vfile.replace('.npz', '.csv')\n",
      "            vpath = os.path.split(vfile)[0]\n",
      "            if not os.path.isdir(vpath):\n",
      "                os.makedirs(vpath)\n",
      "            vfiles.append(vfile)\n",
      "        simulation_config['simulations'][simulation][member]['verif_files'] = vfiles\n",
      "        vfile = os.path.join(vpath, '%s_%03i.csv' % (member, simulation))\n",
      "        simulation_config['simulations'][simulation][member]['verif_file'] = vfile"
     ],
     "language": "python",
     "metadata": {},
     "outputs": []
    },
    {
     "cell_type": "code",
     "collapsed": false,
     "input": [
      "pickle.dump(simulation_config, open(pickle_file, \"wb\"), protocol=pickle.HIGHEST_PROTOCOL)"
     ],
     "language": "python",
     "metadata": {},
     "outputs": []
    },
    {
     "cell_type": "code",
     "collapsed": false,
     "input": [
      "cmds = []\n",
      "for i in range(1, simulation_config['number_of_simulations']+1):\n",
      "    for member in members:\n",
      "        kwargs = {'fcst_files': simulation_config['simulations'][i][member][member]['nout_files'],\n",
      "                  'verif_file': simulation_config['simulations'][i][member]['verif_file'],\n",
      "                  'thresh': thresh, 'precision': 0, 'mask': disser.mask}\n",
      "        cmds.append(kwargs)"
     ],
     "language": "python",
     "metadata": {},
     "outputs": []
    },
    {
     "cell_type": "code",
     "collapsed": false,
     "input": [
      "jobs = view.map(disser.calibration.forecast_verification, cmds)"
     ],
     "language": "python",
     "metadata": {},
     "outputs": []
    },
    {
     "cell_type": "code",
     "collapsed": false,
     "input": [
      "disser.misc.mpi_progress(view, jobs, len(cmds), 10)"
     ],
     "language": "python",
     "metadata": {},
     "outputs": []
    },
    {
     "cell_type": "code",
     "collapsed": false,
     "input": [],
     "language": "python",
     "metadata": {},
     "outputs": []
    }
   ],
   "metadata": {}
  }
 ]
}