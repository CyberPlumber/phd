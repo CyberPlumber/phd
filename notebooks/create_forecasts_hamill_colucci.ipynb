{
 "metadata": {
  "name": "create_forecasts_hamill_colucci"
 },
 "nbformat": 3,
 "nbformat_minor": 0,
 "worksheets": [
  {
   "cells": [
    {
     "cell_type": "code",
     "collapsed": false,
     "input": [
      "from IPython.parallel import Client\n",
      "import os\n",
      "import sys\n",
      "import time\n",
      "import shutil\n",
      "import datetime\n",
      "from glob import glob\n",
      "\n",
      "import pygrib\n",
      "import numpy as np\n",
      "from scipy import ndimage\n",
      "\n",
      "import hwt\n",
      "import metpy as mp\n",
      "import disser; reload(disser)\n",
      "import hwt.cfuncs.ensemble as ens\n"
     ],
     "language": "python",
     "metadata": {},
     "outputs": []
    },
    {
     "cell_type": "code",
     "collapsed": false,
     "input": [
      "print('Platform: {0.platform}\\nPython Version: {0.version}'.format(sys))\n",
      "print('Numpy Version: {0}'.format(np.__version__))\n",
      "print('HWT Version: {0}'.format(hwt.__version__))\n",
      "print('Disser Version: {0}'.format(disser.__version__))"
     ],
     "language": "python",
     "metadata": {},
     "outputs": []
    },
    {
     "cell_type": "markdown",
     "metadata": {},
     "source": [
      "-----\n",
      "# Create Hammil and Colucci SSEF Forecasts"
     ]
    },
    {
     "cell_type": "code",
     "collapsed": false,
     "input": [
      "rc = Client()\n",
      "%px import datetime\n",
      "%px import os\n",
      "%px import numpy as np\n",
      "%px import disser\n",
      "%px import pygrib\n",
      "%px import hwt.cfuncs.ensemble as ens\n",
      "view = rc.load_balanced_view()    # Load-Balanced View"
     ],
     "language": "python",
     "metadata": {},
     "outputs": []
    },
    {
     "cell_type": "code",
     "collapsed": false,
     "input": [
      "thresh = 25.4 * 1\n",
      "stg4_root = r'/raid/efp/se2011/pmarsh/stg4/06h'\n",
      "ssef_root = r'/raid/efp/se2011/pmarsh/ssef_precip'\n",
      "hamill_root = r'/raid/efp/se2012/pmarsh/phd/hamill/forecasts/%05.2f' % (thresh)\n",
      "if not os.path.isdir(hamill_root):\n",
      "    os.makedirs(hamill_root)"
     ],
     "language": "python",
     "metadata": {},
     "outputs": []
    },
    {
     "cell_type": "markdown",
     "metadata": {},
     "source": [
      "Get a list of valid dates and times for each member of the ensemble. To be a valid date for a given member, both a stage4 and forecast file must be present"
     ]
    },
    {
     "cell_type": "code",
     "collapsed": false,
     "input": [
      "ens_mem_dates = {}\n",
      "ssef_files = []\n",
      "stg4_files = []\n",
      "for member in disser.misc.se2010_members:\n",
      "    ens_mem_dates[member] = []\n",
      "    for date2 in disser.misc.sedates:\n",
      "        dt = datetime.datetime.strptime(date2, '%y%m%d')\n",
      "        date4 = dt.strftime('%Y%m%d')\n",
      "        ndate4 = (dt + datetime.timedelta(days=1)).strftime('%Y%m%d')\n",
      "        yrmo = dt.strftime('%Y/%m')\n",
      "        ssef_path = os.path.join(ssef_root, os.path.join(date2, member))\n",
      "        ssef_file18 = os.path.join(ssef_path, '%s.%sf18.06h' % (member, date4))\n",
      "        ssef_file24 = os.path.join(ssef_path, '%s.%sf24.06h' % (member, date4))\n",
      "        ssef_file30 = os.path.join(ssef_path, '%s.%sf30.06h' % (member, date4))\n",
      "\n",
      "        stg4_path = os.path.join(stg4_root, yrmo)\n",
      "        stg4_file18 = os.path.join(stg4_path, 'ST4.%s18.06h' % (date4))\n",
      "        stg4_file24 = os.path.join(stg4_path, 'ST4.%s00.06h' % (ndate4))\n",
      "        stg4_file30 = os.path.join(stg4_path, 'ST4.%s06.06h' % (ndate4))\n",
      "\n",
      "        if os.path.isfile(ssef_file18) and os.path.isfile(stg4_file18):\n",
      "            ssef_files.append(ssef_file18)\n",
      "            stg4_files.append(stg4_file18)\n",
      "            ens_mem_dates[member].append(dt.replace(hour=18))\n",
      "        if os.path.isfile(ssef_file24) and os.path.isfile(stg4_file24):\n",
      "            ssef_files.append(ssef_file24)\n",
      "            stg4_files.append(stg4_file24)\n",
      "            ens_mem_dates[member].append(dt + datetime.timedelta(days=1))\n",
      "        if os.path.isfile(ssef_file30) and os.path.isfile(stg4_file30):\n",
      "            ssef_files.append(ssef_file30)\n",
      "            stg4_files.append(stg4_file30)\n",
      "            ens_mem_dates[member].append(dt + datetime.timedelta(days=1) + datetime.timedelta(hours=6))"
     ],
     "language": "python",
     "metadata": {},
     "outputs": []
    },
    {
     "cell_type": "markdown",
     "metadata": {},
     "source": [
      "Now, get a list of the dates that are in common amongst all ensemble members"
     ]
    },
    {
     "cell_type": "code",
     "collapsed": false,
     "input": [
      "valid_dts = []\n",
      "non_valid_dts = []\n",
      "for member in ens_mem_dates:\n",
      "    dts = ens_mem_dates[member]\n",
      "    for dt in dts:\n",
      "        if dt not in valid_dts:\n",
      "            mems = 0\n",
      "            for member in ens_mem_dates:\n",
      "                if dt in ens_mem_dates[member]:\n",
      "                    mems += 1\n",
      "            if mems == 15:\n",
      "                valid_dts.append(dt)\n",
      "            else:\n",
      "                non_valid_dts.append(dt)\n",
      "non_valid_dts = list(set(non_valid_dts))\n",
      "non_valid_dts.sort()\n",
      "print('Valid Dataset Size:', len(valid_dts))"
     ],
     "language": "python",
     "metadata": {},
     "outputs": []
    },
    {
     "cell_type": "code",
     "collapsed": false,
     "input": [
      "sfiles_tmp = np.unique(stg4_files)\n",
      "sfiles = []\n",
      "for dt in valid_dts:\n",
      "    f = dt.strftime('ST4.%Y%m%d%H.06h')\n",
      "    for sf in sfiles_tmp:\n",
      "        if f in sf:\n",
      "            sfiles.append(sf)\n",
      "            break\n",
      "print(len(sfiles))\n",
      "    "
     ],
     "language": "python",
     "metadata": {},
     "outputs": []
    },
    {
     "cell_type": "code",
     "collapsed": false,
     "input": [
      "def make_hamill_forecasts(kwargs):\n",
      "    dt = kwargs.get('dt')\n",
      "    sfile = kwargs.get('sfile')\n",
      "    ssef_root = kwargs.get('ssef_root')\n",
      "    hamill_root = kwargs.get('hamill_root')\n",
      "    thresh = kwargs.get('thresh')\n",
      "    if dt.hour == 18:\n",
      "        vdt = dt\n",
      "        fhr = dt.strftime('%H')\n",
      "    else:\n",
      "        vdt = dt - datetime.timedelta(days=1)\n",
      "        fhr = '%02i' % (dt.hour + 24)\n",
      "    date4 = vdt.strftime('%Y%m%d')\n",
      "    vdate4 = dt.strftime('%Y%m%d%H')\n",
      "    date2 = date4[2:]\n",
      "    yrmo = vdt.strftime('%Y/%m')\n",
      "    \n",
      "    fcsts = []\n",
      "    for member in disser.misc.se2010_members:\n",
      "        ssef_path = os.path.join(ssef_root, os.path.join(date2, member))\n",
      "        ssef_file = os.path.join(ssef_path, '%s.%sf%s.06h' % (member, date4, fhr))\n",
      "        fcsts.append(pygrib.open(ssef_file)[1].values)\n",
      "    fcsts = np.asarray(fcsts)\n",
      "    probs = ens.corrected_ensemble(fcsts, thresh)\n",
      "    stg4 = pygrib.open(sfile)[1].values\n",
      "    stg4_mask = stg4.mask\n",
      "    stg4 = stg4.filled(0)\n",
      "    stg4[stg4 < thresh] = 0\n",
      "    stg4[stg4 != 0] = 1\n",
      "    outfile = os.path.join(hamill_root, '%s.npz' % (vdate4))\n",
      "    print(outfile)\n",
      "    np.savez_compressed(outfile, stg4=stg4, stg4_mask=stg4_mask, fcst=probs)\n",
      "\n",
      "\n",
      "\n"
     ],
     "language": "python",
     "metadata": {},
     "outputs": []
    },
    {
     "cell_type": "code",
     "collapsed": false,
     "input": [
      "cmds = []\n",
      "for dt, sf in zip(valid_dts, sfiles):\n",
      "    kwargs = {'dt': dt, 'sfile': sf, 'ssef_root': ssef_root, 'hamill_root': hamill_root, 'thresh': thresh}\n",
      "    cmds.append(kwargs)"
     ],
     "language": "python",
     "metadata": {},
     "outputs": []
    },
    {
     "cell_type": "code",
     "collapsed": false,
     "input": [
      "jobs = view.map(make_hamill_forecasts, cmds)"
     ],
     "language": "python",
     "metadata": {},
     "outputs": []
    },
    {
     "cell_type": "code",
     "collapsed": false,
     "input": [
      "disser.misc.mpi_progress(view, jobs, len(cmds), 10)"
     ],
     "language": "python",
     "metadata": {},
     "outputs": []
    },
    {
     "cell_type": "code",
     "collapsed": false,
     "input": [],
     "language": "python",
     "metadata": {},
     "outputs": []
    }
   ],
   "metadata": {}
  }
 ]
}