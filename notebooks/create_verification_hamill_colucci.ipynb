{
 "metadata": {
  "name": "create_verification_hamill_colucci"
 },
 "nbformat": 3,
 "nbformat_minor": 0,
 "worksheets": [
  {
   "cells": [
    {
     "cell_type": "code",
     "collapsed": false,
     "input": [
      "from IPython.parallel import Client\n",
      "import os\n",
      "import sys\n",
      "import time\n",
      "import shutil\n",
      "import datetime\n",
      "import numpy as np\n",
      "\n",
      "import hwt\n",
      "import disser; reload(disser)"
     ],
     "language": "python",
     "metadata": {},
     "outputs": []
    },
    {
     "cell_type": "code",
     "collapsed": false,
     "input": [
      "thresh = 25.4 * 1\n",
      "precision = 0\n",
      "stg4_root = r'/raid/efp/se2011/pmarsh/stg4/06h'\n",
      "hamill_forecast_root = r'/raid/efp/se2012/pmarsh/phd/hamill/forecasts/%05.2f' % (thresh)\n",
      "hamill_verification_root = r'/raid/efp/se2012/pmarsh/phd/hamill/verification/%05.2f' % (thresh)\n",
      "if not os.path.isdir(hamill_verification_root):\n",
      "    os.makedirs(hamill_verification_root)\n",
      "\n",
      "\n",
      "files = !ls $hamill_forecast_root\n",
      "dts = [datetime.datetime.strptime(d.split('.')[0], '%Y%m%d%H') for d in files]\n",
      "nfiles = [os.path.join(hamill_forecast_root, f) for f in files]\n",
      "vfiles = [s.replace('forecasts', 'verification').replace('.npz', '.csv') for s in nfiles]"
     ],
     "language": "python",
     "metadata": {},
     "outputs": []
    },
    {
     "cell_type": "code",
     "collapsed": false,
     "input": [
      "cmds = []\n",
      "for i in range(len(nfiles)):\n",
      "    kwargs = {'fcst_files': [nfiles[i]], 'verif_file': vfiles[i],\n",
      "              'thresh': thresh, 'precision': 0, 'mask': disser.mask, 'field': 'fcst'}\n",
      "    cmds.append(kwargs)\n"
     ],
     "language": "python",
     "metadata": {},
     "outputs": []
    },
    {
     "cell_type": "code",
     "collapsed": false,
     "input": [
      "jobs = view.map(disser.calibration.forecast_verification, cmds)"
     ],
     "language": "python",
     "metadata": {},
     "outputs": []
    },
    {
     "cell_type": "code",
     "collapsed": false,
     "input": [
      "disser.misc.mpi_progress(view, jobs, len(cmds), 2)"
     ],
     "language": "python",
     "metadata": {},
     "outputs": []
    }
   ],
   "metadata": {}
  }
 ]
}