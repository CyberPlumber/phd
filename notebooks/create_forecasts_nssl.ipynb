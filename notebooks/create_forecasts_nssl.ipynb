{
 "metadata": {
  "name": "create_forecasts_nssl"
 },
 "nbformat": 3,
 "nbformat_minor": 0,
 "worksheets": [
  {
   "cells": [
    {
     "cell_type": "code",
     "collapsed": false,
     "input": [
      "from IPython.parallel import Client\n",
      "import os\n",
      "import sys\n",
      "import time\n",
      "import shutil\n",
      "import datetime\n",
      "from glob import glob\n",
      "from random import choice\n",
      "import cPickle as pickle\n",
      "\n",
      "import numpy as np\n",
      "from scipy import ndimage\n",
      "\n",
      "import hwt\n",
      "import metpy as mp\n",
      "import disser; reload(disser)"
     ],
     "language": "python",
     "metadata": {},
     "outputs": []
    },
    {
     "cell_type": "code",
     "collapsed": false,
     "input": [
      "print('Platform: {0.platform}\\nPython Version: {0.version}'.format(sys))\n",
      "print('Numpy Version: {0}'.format(np.__version__))\n",
      "print('HWT Version: {0}'.format(hwt.__version__))\n",
      "print('Disser Version: {0}'.format(disser.__version__))"
     ],
     "language": "python",
     "metadata": {},
     "outputs": []
    },
    {
     "cell_type": "markdown",
     "metadata": {},
     "source": [
      "-----\n",
      "# Create NSSL-WRF Forecasts"
     ]
    },
    {
     "cell_type": "code",
     "collapsed": false,
     "input": [
      "rc = Client()\n",
      "%px import disser\n",
      "view = rc.load_balanced_view()    # Load-Balanced View"
     ],
     "language": "python",
     "metadata": {},
     "outputs": []
    },
    {
     "cell_type": "code",
     "collapsed": false,
     "input": [
      "dx = 4.7\n",
      "factor = 5.\n",
      "radius = 300\n",
      "thresh = 25.4 * 1\n",
      "if thresh == 12.7:\n",
      "    parms = {300: {'sigx': 31.6326276682, 'sigy': 28.1314213435, 'xrot': 60.8575667575,\n",
      "                   'h': 1.49297323804, 'k': 1.88767854222},\n",
      "             400: {'sigx': 40.9368869275, 'sigy': 35.6815258738, 'xrot': 63.9187717957,\n",
      "                   'h': 2.20566185685, 'k': 2.56233189666}}\n",
      "elif thresh == 25.4:\n",
      "    parms = {300: {'sigx': 31.2648101029, 'sigy': 26.4293709579, 'xrot': 51.420339506,\n",
      "                   'h': 0.717657770044, 'k': 3.22406222636},\n",
      "             400: {'sigx': 40.6180306443, 'sigy': 32.9571780737, 'xrot': 57.6005618227,\n",
      "                   'h': 1.3935738523, 'k': 4.45594083708}}\n",
      "parms[radius]['ih'] = round(parms[radius]['h'])\n",
      "parms[radius]['ik'] = round(parms[radius]['k'])\n",
      "\n",
      "stg4_root = r'/raid/efp/se2011/pmarsh/stg4/06h'\n",
      "nssl_root = r'/raid/efp/se2011/pmarsh/nssl/06h'\n",
      "npbin_root = r'/raid/efp/se2012/pmarsh/phd/deterministic/%03ikm/forecasts/%05.2f/06h' % (radius, thresh)\n",
      "\n",
      "bdt = datetime.datetime(2010, 4, 1, 0)\n",
      "edt = datetime.datetime(2011, 3, 31, 18)\n",
      "dts = [bdt + datetime.timedelta(hours=i*6) for i in range(4+(edt-bdt).days*4)]"
     ],
     "language": "python",
     "metadata": {},
     "outputs": []
    },
    {
     "cell_type": "code",
     "collapsed": false,
     "input": [
      "stg4_files = []\n",
      "nssl_files = []\n",
      "valid_dts = []\n",
      "for dt in dts:\n",
      "    yrmo = os.path.join('%04i' % (dt.year), '%02i' % (dt.month))\n",
      "    date4 = dt.strftime('%Y%m%d%H')\n",
      "    stg4_path = os.path.join(stg4_root, yrmo)\n",
      "    stg4_file = os.path.join(stg4_path, 'ST4.%s.06h' % (date4))\n",
      "    nssl_path = os.path.join(nssl_root, yrmo)\n",
      "    nssl_file = os.path.join(nssl_path, 'NSSL.%s.06h' % (date4))\n",
      "    if os.path.isfile(stg4_file) and os.path.isfile(nssl_file):\n",
      "        stg4_files.append(stg4_file)\n",
      "        nssl_files.append(nssl_file)\n",
      "        valid_dts.append(dt)"
     ],
     "language": "python",
     "metadata": {},
     "outputs": []
    },
    {
     "cell_type": "code",
     "collapsed": false,
     "input": [
      "nout_files = []\n",
      "for dt in valid_dts:\n",
      "    yrmo = dt.strftime('%Y/%m')\n",
      "    date4 = dt.strftime('%Y%m%d%H')\n",
      "    npbin_path = os.path.join(npbin_root, yrmo)\n",
      "    if not os.path.isdir(npbin_path):\n",
      "        os.makedirs(npbin_path)\n",
      "    nout_file = os.path.join(npbin_path, '%s.npz' % (date4))\n",
      "    nout_files.append(nout_file)"
     ],
     "language": "python",
     "metadata": {},
     "outputs": []
    },
    {
     "cell_type": "code",
     "collapsed": false,
     "input": [
      "sfiles = []\n",
      "ffiles = []\n",
      "nfiles = []\n",
      "skip = 25\n",
      "for i in range(0, len(stg4_files), skip):\n",
      "    sfiles.append(stg4_files[i:i+skip])\n",
      "    ffiles.append(nssl_files[i:i+skip])\n",
      "    nfiles.append(nout_files[i:i+skip])\n",
      "files = zip(sfiles, ffiles, nfiles)"
     ],
     "language": "python",
     "metadata": {},
     "outputs": []
    },
    {
     "cell_type": "code",
     "collapsed": false,
     "input": [
      "cmds = []\n",
      "for i in range(len(sfiles)):\n",
      "    kwargs = {'stg4_files': sfiles[i], 'fcst_files': ffiles[i],\n",
      "              'nout_files': nfiles[i], 'dx': dx, 'fcst_thresh': thresh,\n",
      "              'stg4_thresh': thresh, 'mask': disser.mask,\n",
      "              'sigx': parms[radius]['sigx'], 'sigy': parms[radius]['sigy'],\n",
      "              'xrot': parms[radius]['xrot'], 'h': parms[radius]['ih'],\n",
      "              'k': parms[radius]['ik'], 'factor': factor}\n",
      "    cmds.append(kwargs)"
     ],
     "language": "python",
     "metadata": {},
     "outputs": []
    },
    {
     "cell_type": "code",
     "collapsed": false,
     "input": [
      "jobs = view.map(disser.calibration.create_forecasts, cmds)"
     ],
     "language": "python",
     "metadata": {},
     "outputs": []
    },
    {
     "cell_type": "code",
     "collapsed": false,
     "input": [
      "disser.misc.mpi_progress(view, jobs, len(cmds), 10)"
     ],
     "language": "python",
     "metadata": {},
     "outputs": []
    },
    {
     "cell_type": "code",
     "collapsed": false,
     "input": [],
     "language": "python",
     "metadata": {},
     "outputs": []
    }
   ],
   "metadata": {}
  }
 ]
}