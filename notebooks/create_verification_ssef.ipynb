{
 "metadata": {
  "name": "create_verification_ssef"
 },
 "nbformat": 3,
 "nbformat_minor": 0,
 "worksheets": [
  {
   "cells": [
    {
     "cell_type": "code",
     "collapsed": false,
     "input": [
      "from IPython.parallel import Client\n",
      "import os\n",
      "import sys\n",
      "import time\n",
      "import shutil\n",
      "import datetime\n",
      "import numpy as np\n",
      "import cPickle as pickle\n",
      "\n",
      "\n",
      "import hwt\n",
      "import disser; reload(disser)"
     ],
     "language": "python",
     "metadata": {},
     "outputs": []
    },
    {
     "cell_type": "code",
     "collapsed": false,
     "input": [
      "print('Platform: {0.platform}\\nPython Version: {0.version}'.format(sys))\n",
      "print('Numpy Version: {0}'.format(np.__version__))\n",
      "print('HWT Version: {0}'.format(hwt.__version__))\n",
      "print('Disser Version: {0}'.format(disser.__version__))"
     ],
     "language": "python",
     "metadata": {},
     "outputs": []
    },
    {
     "cell_type": "markdown",
     "metadata": {},
     "source": [
      "-----\n",
      "# Create SSEF Verification\n"
     ]
    },
    {
     "cell_type": "code",
     "collapsed": false,
     "input": [
      "rc = Client()\n",
      "%px import disser\n",
      "view = rc.load_balanced_view()    # Load-Balanced View\n"
     ],
     "language": "python",
     "metadata": {},
     "outputs": []
    },
    {
     "cell_type": "code",
     "collapsed": false,
     "input": [
      "radius = 300\n",
      "thresh = 25.4 * 1\n",
      "npbin_simulation_root = r'/raid/efp/se2012/pmarsh/phd/ssef/%03ikm/forecasts/%05.2f/06h/simulations' % (radius, thresh)\n",
      "verif_simulation_root = r'/raid/efp/se2012/pmarsh/phd/ssef/%03ikm/verification/%05.2f/06h/simulations' % (radius, thresh)\n",
      "\n",
      "pickle_file = os.path.join(npbin_simulation_root, r'simulation_config_%03ikm_%05.2f.pkl' % (radius, thresh))\n",
      "simulation_config = pickle.load(open(pickle_file, 'rb'))"
     ],
     "language": "python",
     "metadata": {},
     "outputs": []
    },
    {
     "cell_type": "code",
     "collapsed": false,
     "input": [
      "members = disser.misc.se2010_members\n",
      "\n",
      "if os.path.isdir(verif_simulation_root):\n",
      "    shutil.rmtree(verif_simulation_root)\n",
      "    \n",
      "for simulation in range(1, simulation_config['number_of_simulations']+1):\n",
      "    for member in simulation_config['simulations'][simulation]:\n",
      "        if member not in members: continue\n",
      "        nfiles = simulation_config['simulations'][simulation][member]['nout_files']\n",
      "        vfiles = []\n",
      "        for nfile in nfiles:\n",
      "            vfile = nfile.replace('forecasts', 'verification')\n",
      "            vfile = vfile.replace('.npz', '.csv')\n",
      "            vpath = os.path.split(vfile)[0]\n",
      "            if not os.path.isdir(vpath):\n",
      "                os.makedirs(vpath)\n",
      "            vfiles.append(vfile)\n",
      "        simulation_config['simulations'][simulation][member]['verif_files'] = vfiles\n",
      "        vfile = os.path.join(vpath, '%s_%03i.csv' % (member, simulation))\n",
      "        simulation_config['simulations'][simulation][member]['verif_file'] = vfile\n"
     ],
     "language": "python",
     "metadata": {},
     "outputs": []
    },
    {
     "cell_type": "code",
     "collapsed": false,
     "input": [
      "pickle.dump(simulation_config, open(pickle_file, \"wb\"), protocol=2)\n"
     ],
     "language": "python",
     "metadata": {},
     "outputs": []
    },
    {
     "cell_type": "code",
     "collapsed": false,
     "input": [
      "cmds = []\n",
      "for i in range(1, simulation_config['number_of_simulations']+1):\n",
      "    for member in disser.misc.se2010_members:\n",
      "        kwargs = {'fcst_files': simulation_config['simulations'][i][member]['nout_files'], \n",
      "                  'verif_file': simulation_config['simulations'][i][member]['verif_file'], \n",
      "                  'thresh': thresh, 'precision': 0, 'mask': disser.mask}\n",
      "        cmds.append(kwargs)\n"
     ],
     "language": "python",
     "metadata": {},
     "outputs": []
    },
    {
     "cell_type": "code",
     "collapsed": false,
     "input": [
      "jobs = view.map(disser.calibration.forecast_verification, cmds)"
     ],
     "language": "python",
     "metadata": {},
     "outputs": []
    },
    {
     "cell_type": "code",
     "collapsed": false,
     "input": [
      "disser.misc.mpi_progress(view, jobs, len(cmds), 10)"
     ],
     "language": "python",
     "metadata": {},
     "outputs": []
    }
   ],
   "metadata": {}
  }
 ]
}