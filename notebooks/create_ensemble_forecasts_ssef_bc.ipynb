{
 "metadata": {
  "name": "create_ensemble_forecasts_ssef_bc"
 },
 "nbformat": 3,
 "nbformat_minor": 0,
 "worksheets": [
  {
   "cells": [
    {
     "cell_type": "code",
     "collapsed": false,
     "input": [
      "from IPython.parallel import Client\n",
      "import os\n",
      "import sys\n",
      "import time\n",
      "import shutil\n",
      "import datetime\n",
      "from glob import glob\n",
      "from random import choice\n",
      "import cPickle as pickle\n",
      "\n",
      "import numpy as np\n",
      "from scipy import ndimage\n",
      "\n",
      "import hwt\n",
      "import metpy as mp\n",
      "import disser; reload(disser)"
     ],
     "language": "python",
     "metadata": {},
     "outputs": []
    },
    {
     "cell_type": "code",
     "collapsed": false,
     "input": [
      "print('Platform: {0.platform}\\nPython Version: {0.version}'.format(sys))\n",
      "print('Numpy Version: {0}'.format(np.__version__))\n",
      "print('HWT Version: {0}'.format(hwt.__version__))\n",
      "print('Disser Version: {0}'.format(disser.__version__))"
     ],
     "language": "python",
     "metadata": {},
     "outputs": []
    },
    {
     "cell_type": "markdown",
     "metadata": {},
     "source": [
      "-----\n",
      "# Create Bias Corrected Ensemble SSEF Forecasts"
     ]
    },
    {
     "cell_type": "code",
     "collapsed": false,
     "input": [
      "rc = Client()\n",
      "%px import disser\n",
      "%px import os\n",
      "%px import numpy as np\n",
      "view = rc.load_balanced_view()    # Load-Balanced View"
     ],
     "language": "python",
     "metadata": {},
     "outputs": []
    },
    {
     "cell_type": "code",
     "collapsed": false,
     "input": [
      "def get_ensembled_ssef(kwargs):\n",
      "    new_parms = {'ensemble': {}}\n",
      "    sim_number = kwargs.get('sim_number')\n",
      "    simulation_config = kwargs.get('simulation_config')\n",
      "    dts = simulation_config['simulations'][sim_number]['forecast_dates']\n",
      "    efiles = []\n",
      "    for dt in dts:\n",
      "        date4H = dt.strftime('%Y%m%d%H')\n",
      "        initial = True\n",
      "        fcsts = []\n",
      "        for member in disser.misc.se2010_members:\n",
      "            npath = os.path.dirname(simulation_config['simulations'][sim_number][member]['nout_files'][0])\n",
      "            nfile = os.path.join(npath, '%s.npz' % (date4H))\n",
      "            f = np.load(nfile)\n",
      "            if initial:\n",
      "                stg4 = f['stg4']\n",
      "                stg4_thresh = f['stg4_thresh']\n",
      "                factor = f['factor']\n",
      "                dx = f['dx']\n",
      "                initial = False\n",
      "            fcsts.append(f['fcst_aniso'])\n",
      "            f.close()\n",
      "        fcsts = np.asarray(fcsts)\n",
      "        fcst = np.mean(fcsts, axis=0)\n",
      "        # Get the path to the current simulation\n",
      "        nroot = \"/\".join(npath.split('/')[:-1])\n",
      "        epath = os.path.join(nroot, 'ensemble')\n",
      "        if not os.path.isdir(epath):\n",
      "            os.makedirs(epath)\n",
      "        efiles.append(os.path.join(epath, '%s.npz' % (date4H)))\n",
      "        np.savez_compressed(efiles[-1], fcst_aniso=fcst, stg4=stg4,\n",
      "                            thresh=stg4_thresh, factor=factor, dx=dx)\n",
      "    new_parms['ensemble']['nout_files'] = efiles\n",
      "    return sim_number, new_parms"
     ],
     "language": "python",
     "metadata": {},
     "outputs": []
    },
    {
     "cell_type": "code",
     "collapsed": false,
     "input": [
      "dx = 4.7\n",
      "factor = 5.\n",
      "radius = 300\n",
      "thresh = 25.4 * 1\n",
      "\n",
      "npbin_root = r'/raid/efp/se2012/pmarsh/phd/ssef_bc/%03ikm/2dhists/%05.2f/06h' % (radius, thresh)\n",
      "npbin_fcst_root = r'/raid/efp/se2012/pmarsh/phd/ssef_bc/%03ikm/forecasts/%05.2f/06h/simulations' % (radius, thresh)\n",
      "\n",
      "pickle_file = os.path.join(npbin_fcst_root, r'simulation_config_%03ikm_%05.2f.pkl' % (radius, thresh))"
     ],
     "language": "python",
     "metadata": {},
     "outputs": []
    },
    {
     "cell_type": "code",
     "collapsed": false,
     "input": [
      "simulation_config = pickle.load(open(pickle_file, 'rb'))"
     ],
     "language": "python",
     "metadata": {},
     "outputs": []
    },
    {
     "cell_type": "code",
     "collapsed": false,
     "input": [
      "cmds = []\n",
      "for i in range(1, simulation_config['number_of_simulations']+1):\n",
      "    kwargs = {'sim_number': i, 'simulation_config': simulation_config}\n",
      "    cmds.append(kwargs)"
     ],
     "language": "python",
     "metadata": {},
     "outputs": []
    },
    {
     "cell_type": "code",
     "collapsed": false,
     "input": [
      "jobs = view.map(get_ensembled_ssef, cmds)"
     ],
     "language": "python",
     "metadata": {},
     "outputs": []
    },
    {
     "cell_type": "code",
     "collapsed": false,
     "input": [
      "disser.misc.mpi_progress(view, jobs, len(cmds), 30)"
     ],
     "language": "python",
     "metadata": {},
     "outputs": []
    },
    {
     "cell_type": "code",
     "collapsed": false,
     "input": [
      "output = jobs.r\n",
      "output.sort()"
     ],
     "language": "python",
     "metadata": {},
     "outputs": []
    },
    {
     "cell_type": "code",
     "collapsed": false,
     "input": [
      "for sim_number, parameters in output:\n",
      "    if 'ensemble' not in simulation_config['simulations'][sim_number].keys():\n",
      "        simulation_config['simulations'][sim_number]['ensemble'] = {}\n",
      "    for member in parameters:\n",
      "        for key, val in parameters.iteritems():\n",
      "            simulation_config['simulations'][sim_number][member][key] = val"
     ],
     "language": "python",
     "metadata": {},
     "outputs": []
    },
    {
     "cell_type": "code",
     "collapsed": false,
     "input": [
      "pickle.dump(simulation_config, open(pickle_file, \"wb\"), protocol=2)"
     ],
     "language": "python",
     "metadata": {},
     "outputs": []
    }
   ],
   "metadata": {}
  }
 ]
}